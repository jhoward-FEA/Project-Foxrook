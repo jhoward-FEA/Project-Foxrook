{
 "cells": [
  {
   "cell_type": "code",
   "execution_count": 1,
   "id": "42fd149f",
   "metadata": {
    "ExecuteTime": {
     "end_time": "2023-12-21T19:19:25.784009Z",
     "start_time": "2023-12-21T19:19:23.710747Z"
    }
   },
   "outputs": [],
   "source": [
    "import pandas as pd, numpy as np, matplotlib.pyplot as plt, pyarrow as pa\n",
    "import os, re, chardet, xlrd\n",
    "from IPython.display import display, HTML, Markdown\n",
    "from openpyxl import load_workbook"
   ]
  },
  {
   "cell_type": "markdown",
   "id": "7340446d",
   "metadata": {},
   "source": [
    "##### Toggle pandas limit"
   ]
  },
  {
   "cell_type": "code",
   "execution_count": 2,
   "id": "52460b67",
   "metadata": {
    "ExecuteTime": {
     "end_time": "2023-12-21T19:19:26.016832Z",
     "start_time": "2023-12-21T19:19:26.007904Z"
    }
   },
   "outputs": [],
   "source": [
    "# Set pandas display options to show all rows and columns\n",
    "pd.set_option('display.max_rows', None)\n",
    "pd.set_option('display.max_columns', None)"
   ]
  },
  {
   "cell_type": "code",
   "execution_count": 3,
   "id": "67cdf56c",
   "metadata": {
    "ExecuteTime": {
     "end_time": "2023-12-21T19:19:26.204951Z",
     "start_time": "2023-12-21T19:19:26.191525Z"
    }
   },
   "outputs": [],
   "source": [
    "# Reset display options to default\n",
    "pd.reset_option('display.max_rows')\n",
    "pd.reset_option('display.max_columns')"
   ]
  },
  {
   "cell_type": "markdown",
   "id": "fb783216",
   "metadata": {},
   "source": [
    "### Batch Import\n",
    "The below will get the sheet names of the master Excel file as a list, and create a second list of dataframes generated from each sheet.  Then, it will pickle (.pkl) each dataframe with a filename based on the corresponding sheet, and save them to be quickly accessed later."
   ]
  },
  {
   "cell_type": "code",
   "execution_count": null,
   "id": "6b365349",
   "metadata": {
    "ExecuteTime": {
     "start_time": "2023-12-19T20:52:02.769Z"
    }
   },
   "outputs": [],
   "source": [
    "def get_sheetnames_xlsx(filepath):\n",
    "    wb = load_workbook(filepath, read_only=True, keep_links=False)\n",
    "    return wb.sheetnames\n",
    "\n",
    "sheetnames = get_sheetnames_xlsx('Vision_Data/Vision Data Master Copy.xlsx')\n",
    "\n",
    "dfs = []\n",
    "\n",
    "## This section takes a long time to run, uncomment when needed.\n",
    "for sheet in sheetnames:\n",
    "    dfs.append(pd.read_excel('Vision_Data/Vision Data Master Copy.xlsx', sheet_name=sheet))\n",
    "    \n",
    "df_names = ['AR', 'CL', 'LD', 'LedgerAP', 'LedgerAR', 'LedgerEX', \n",
    "            'LedgerMisc', 'Opportunity', 'OpportunityCustomTabFields', 'PR', \n",
    "            'Projects_BillingProjections', 'Projects_ProjectSetup']"
   ]
  },
  {
   "cell_type": "code",
   "execution_count": null,
   "id": "200fb9f7",
   "metadata": {
    "ExecuteTime": {
     "start_time": "2023-12-19T20:52:08.048Z"
    }
   },
   "outputs": [],
   "source": [
    "# # single import for minor correction\n",
    "# df_AR = pd.read_excel('Vision_Data/Vision Data Master Copy.xlsx', sheet_name='AR')\n",
    "# df_CL = pd.read_excel('Vision_Data/Vision Data Master Copy.xlsx', sheet_name='CL')\n",
    "# df_EMProjectAssoc = pd.read_excel('Vision_Data/Vision Data Master Copy.xlsx', sheet_name='EMProjectAssoc')\n",
    "# df_LD = pd.read_excel('Vision_Data/Vision Data Master Copy.xlsx', sheet_name='LD')\n",
    "# df_LedgerAP = pd.read_excel('Vision_Data/Vision Data Master Copy.xlsx', sheet_name='LedgerAP')\n",
    "# df_LedgerAR = pd.read_excel(\"Vision_Data/Vision Data Master Copy.xlsx\", sheet_name=\"LedgerAR\")\n",
    "# df_LedgerEX = pd.read_excel('Vision_Data/Vision Data Master Copy.xlsx', sheet_name='LedgerEX')\n",
    "# df_LedgerMisc = pd.read_excel('Vision_Data/Vision Data Master Copy.xlsx', sheet_name='LedgerMisc')\n",
    "# df_Opportunity = pd.read_excel('Vision_Data/Vision Data Master Copy.xlsx', sheet_name='Opportunity')\n",
    "# df_PR = pd.read_excel('Vision_Data/Vision Data Master Copy.xlsx', sheet_name='PR')\n",
    "# df_Projects_BillingProjections = pd.read_excel('Vision_data/Vision Data Master Copy.xlsx', sheet_name='Projects_BillingProjections')\n",
    "# df_Projects_ProjectSetup = pd.read_excel('Vision_data/Vision Data Master Copy.xlsx', sheet_name='Projects_ProjectSetup')"
   ]
  },
  {
   "cell_type": "code",
   "execution_count": null,
   "id": "189fc2f8",
   "metadata": {
    "ExecuteTime": {
     "start_time": "2023-12-19T20:52:08.209Z"
    }
   },
   "outputs": [],
   "source": [
    "for i, df in enumerate(dfs):\n",
    "    columns = df.columns\n",
    "    print(f\"{df_names[i]} has columns: {columns}\")"
   ]
  },
  {
   "cell_type": "code",
   "execution_count": null,
   "id": "27b6ddfd",
   "metadata": {
    "ExecuteTime": {
     "start_time": "2023-12-19T20:52:10.032Z"
    }
   },
   "outputs": [],
   "source": [
    "# some basic data cleaning before pickling"
   ]
  },
  {
   "cell_type": "code",
   "execution_count": 22,
   "id": "99c75b8c",
   "metadata": {
    "ExecuteTime": {
     "end_time": "2023-11-13T19:47:18.651966Z",
     "start_time": "2023-11-13T19:47:18.621236Z"
    }
   },
   "outputs": [],
   "source": [
    "df_AR = dfs[0]\n",
    "# DueDate & LinkCompany are null, and RetainageDate only has 531 values, & is unlikely to be useful\n",
    "# df_AR.drop(\"DueDate\", axis=1, inplace=True)\n",
    "# df_AR.drop(\"LinkCompany\", axis=1, inplace=True)\n",
    "# df_AR.drop(\"RetainageDate\", axis=1, inplace=True)\n",
    "df_AR.dropna(axis=1, how='all', inplace=True)"
   ]
  },
  {
   "cell_type": "code",
   "execution_count": 23,
   "id": "89202315",
   "metadata": {
    "ExecuteTime": {
     "end_time": "2023-11-13T19:47:18.667597Z",
     "start_time": "2023-11-13T19:47:18.651966Z"
    }
   },
   "outputs": [],
   "source": [
    "# possibly do some basic data cleaning before pickling\n",
    "df_CL = dfs[1]"
   ]
  },
  {
   "cell_type": "code",
   "execution_count": 5,
   "id": "11101a95",
   "metadata": {
    "ExecuteTime": {
     "end_time": "2023-12-21T19:19:53.974752Z",
     "start_time": "2023-12-21T19:19:53.885608Z"
    }
   },
   "outputs": [
    {
     "data": {
      "text/plain": [
       "Index(['ClientID', 'Client', 'Name', 'Status', 'ExportInd', 'WebSite',\n",
       "       'CurrentStatus', 'CustomCurrencyCode', 'CreateUser', 'CreateDate',\n",
       "       'ModUser', 'ModDate', 'ClientInd', 'VendorInd', 'LinkedVendor',\n",
       "       'PriorWork', 'Recommend', 'DisadvBusiness',\n",
       "       'DisabledVetOwnedSmallBusiness', 'HBCU', 'MinorityBusiness',\n",
       "       'SmallBusiness', 'VetOwnedSmallBusiness', 'WomanOwned', 'AlaskaNative',\n",
       "       'SpecialtyType', 'Employees', 'AnnualRevenue', 'GovernmentAgency',\n",
       "       'Competitor', 'EightA', 'Hubzone', 'Incumbent', 'AjeraSync'],\n",
       "      dtype='object')"
      ]
     },
     "execution_count": 5,
     "metadata": {},
     "output_type": "execute_result"
    }
   ],
   "source": [
    "## DF_CL take 2, from SQL csv (12/19/23)\n",
    "df_CL = pd.read_csv('Vision_Data/SQL/CL.csv', index_col=0)\n",
    "df_CL.dropna(axis=1, how='all', inplace=True)\n",
    "df_CL.columns"
   ]
  },
  {
   "cell_type": "code",
   "execution_count": 10,
   "id": "1bfe2a51",
   "metadata": {
    "ExecuteTime": {
     "end_time": "2023-12-19T21:53:03.382735Z",
     "start_time": "2023-12-19T21:53:03.367559Z"
    }
   },
   "outputs": [],
   "source": [
    "# df_CL.drop(axis=1, labels=[\"ParentID\", \"ParentLevel1\", \"ParentLevel2\", \"ParentLevel3\",\n",
    "#                            \"CustomCurrencyCode\", \"Type\", \"Specialty\"], inplace=True)\n",
    "\n",
    "## these aren't present in the new version, I'm not sure why not"
   ]
  },
  {
   "cell_type": "code",
   "execution_count": 11,
   "id": "d484b66f",
   "metadata": {
    "ExecuteTime": {
     "end_time": "2023-12-19T21:53:03.877774Z",
     "start_time": "2023-12-19T21:53:03.853119Z"
    }
   },
   "outputs": [
    {
     "data": {
      "text/html": [
       "<div>\n",
       "<style scoped>\n",
       "    .dataframe tbody tr th:only-of-type {\n",
       "        vertical-align: middle;\n",
       "    }\n",
       "\n",
       "    .dataframe tbody tr th {\n",
       "        vertical-align: top;\n",
       "    }\n",
       "\n",
       "    .dataframe thead th {\n",
       "        text-align: right;\n",
       "    }\n",
       "</style>\n",
       "<table border=\"1\" class=\"dataframe\">\n",
       "  <thead>\n",
       "    <tr style=\"text-align: right;\">\n",
       "      <th></th>\n",
       "      <th>ClientID</th>\n",
       "      <th>Client</th>\n",
       "      <th>Name</th>\n",
       "      <th>Status</th>\n",
       "      <th>ExportInd</th>\n",
       "      <th>WebSite</th>\n",
       "      <th>CurrentStatus</th>\n",
       "      <th>CustomCurrencyCode</th>\n",
       "      <th>CreateUser</th>\n",
       "      <th>CreateDate</th>\n",
       "      <th>...</th>\n",
       "      <th>AlaskaNative</th>\n",
       "      <th>SpecialtyType</th>\n",
       "      <th>Employees</th>\n",
       "      <th>AnnualRevenue</th>\n",
       "      <th>GovernmentAgency</th>\n",
       "      <th>Competitor</th>\n",
       "      <th>EightA</th>\n",
       "      <th>Hubzone</th>\n",
       "      <th>Incumbent</th>\n",
       "      <th>AjeraSync</th>\n",
       "    </tr>\n",
       "  </thead>\n",
       "  <tbody>\n",
       "  </tbody>\n",
       "</table>\n",
       "<p>0 rows × 34 columns</p>\n",
       "</div>"
      ],
      "text/plain": [
       "Empty DataFrame\n",
       "Columns: [ClientID, Client, Name, Status, ExportInd, WebSite, CurrentStatus, CustomCurrencyCode, CreateUser, CreateDate, ModUser, ModDate, ClientInd, VendorInd, LinkedVendor, PriorWork, Recommend, DisadvBusiness, DisabledVetOwnedSmallBusiness, HBCU, MinorityBusiness, SmallBusiness, VetOwnedSmallBusiness, WomanOwned, AlaskaNative, SpecialtyType, Employees, AnnualRevenue, GovernmentAgency, Competitor, EightA, Hubzone, Incumbent, AjeraSync]\n",
       "Index: []\n",
       "\n",
       "[0 rows x 34 columns]"
      ]
     },
     "execution_count": 11,
     "metadata": {},
     "output_type": "execute_result"
    }
   ],
   "source": [
    "df_CL[df_CL['Name'].isna()]\n",
    "## also no longer an issue\n",
    "# df_CL[4660:4670]"
   ]
  },
  {
   "cell_type": "code",
   "execution_count": 13,
   "id": "8240685e",
   "metadata": {
    "ExecuteTime": {
     "end_time": "2023-12-19T21:53:10.192327Z",
     "start_time": "2023-12-19T21:53:10.182935Z"
    }
   },
   "outputs": [],
   "source": [
    "# df_CL.to_pickle('Vision_Data/working_data/CL.pkl')\n",
    "## and that's it.  Back to original code from here on"
   ]
  },
  {
   "cell_type": "code",
   "execution_count": 24,
   "id": "c90244a3",
   "metadata": {
    "ExecuteTime": {
     "end_time": "2023-11-13T19:47:18.699026Z",
     "start_time": "2023-11-13T19:47:18.668805Z"
    }
   },
   "outputs": [],
   "source": [
    "df_CL.dropna(axis=1, how='all', inplace=True)"
   ]
  },
  {
   "cell_type": "code",
   "execution_count": null,
   "id": "e4bb6c7c",
   "metadata": {
    "ExecuteTime": {
     "end_time": "2023-12-19T19:25:09.727014Z",
     "start_time": "2023-12-19T19:25:08.073097Z"
    }
   },
   "outputs": [],
   "source": [
    "df_CL.drop(axis=1, labels=[\"ParentID\", \"ParentLevel1\", \"ParentLevel2\", \"ParentLevel3\",\n",
    "                           \"CustomCurrencyCode\", \"Type\", \"Specialty\"], inplace=True)"
   ]
  },
  {
   "cell_type": "code",
   "execution_count": 26,
   "id": "b7c23bae",
   "metadata": {
    "ExecuteTime": {
     "end_time": "2023-11-13T19:47:18.793876Z",
     "start_time": "2023-11-13T19:47:18.715618Z"
    }
   },
   "outputs": [
    {
     "data": {
      "text/html": [
       "<div>\n",
       "<style scoped>\n",
       "    .dataframe tbody tr th:only-of-type {\n",
       "        vertical-align: middle;\n",
       "    }\n",
       "\n",
       "    .dataframe tbody tr th {\n",
       "        vertical-align: top;\n",
       "    }\n",
       "\n",
       "    .dataframe thead th {\n",
       "        text-align: right;\n",
       "    }\n",
       "</style>\n",
       "<table border=\"1\" class=\"dataframe\">\n",
       "  <thead>\n",
       "    <tr style=\"text-align: right;\">\n",
       "      <th></th>\n",
       "      <th>ClientID</th>\n",
       "      <th>Client</th>\n",
       "      <th>Name</th>\n",
       "      <th>Status</th>\n",
       "      <th>ExportInd</th>\n",
       "      <th>WebSite</th>\n",
       "      <th>Memo</th>\n",
       "      <th>CurrentStatus</th>\n",
       "      <th>CreateUser</th>\n",
       "      <th>CreateDate</th>\n",
       "      <th>...</th>\n",
       "      <th>AlaskaNative</th>\n",
       "      <th>SpecialtyType</th>\n",
       "      <th>Employees</th>\n",
       "      <th>AnnualRevenue</th>\n",
       "      <th>GovernmentAgency</th>\n",
       "      <th>Competitor</th>\n",
       "      <th>EightA</th>\n",
       "      <th>Hubzone</th>\n",
       "      <th>Incumbent</th>\n",
       "      <th>AjeraSync</th>\n",
       "    </tr>\n",
       "  </thead>\n",
       "  <tbody>\n",
       "    <tr>\n",
       "      <th>4667</th>\n",
       "      <td>T: #f0f\"</td>\n",
       "      <td>Prospect</td>\n",
       "      <td>NaN</td>\n",
       "      <td>2013-04-04 12:26:26</td>\n",
       "      <td>TCOCHERL</td>\n",
       "      <td>2013-04-09 12:31:36</td>\n",
       "      <td>Y</td>\n",
       "      <td>N</td>\n",
       "      <td>N</td>\n",
       "      <td>N</td>\n",
       "      <td>...</td>\n",
       "      <td>NaN</td>\n",
       "      <td>0</td>\n",
       "      <td>N</td>\n",
       "      <td>N</td>\n",
       "      <td>NaN</td>\n",
       "      <td>NaN</td>\n",
       "      <td>NaN</td>\n",
       "      <td>NaN</td>\n",
       "      <td>NaN</td>\n",
       "      <td>NaN</td>\n",
       "    </tr>\n",
       "  </tbody>\n",
       "</table>\n",
       "<p>1 rows × 34 columns</p>\n",
       "</div>"
      ],
      "text/plain": [
       "      ClientID    Client Name               Status ExportInd  \\\n",
       "4667  T: #f0f\"  Prospect  NaN  2013-04-04 12:26:26  TCOCHERL   \n",
       "\n",
       "                  WebSite Memo CurrentStatus CreateUser CreateDate  ...  \\\n",
       "4667  2013-04-09 12:31:36    Y             N          N          N  ...   \n",
       "\n",
       "     AlaskaNative SpecialtyType Employees AnnualRevenue GovernmentAgency  \\\n",
       "4667          NaN             0         N             N              NaN   \n",
       "\n",
       "     Competitor EightA Hubzone Incumbent AjeraSync  \n",
       "4667        NaN    NaN     NaN       NaN       NaN  \n",
       "\n",
       "[1 rows x 34 columns]"
      ]
     },
     "execution_count": 26,
     "metadata": {},
     "output_type": "execute_result"
    }
   ],
   "source": [
    "df_CL[df_CL['Name'].isna()]"
   ]
  },
  {
   "cell_type": "code",
   "execution_count": 27,
   "id": "7d60a06e",
   "metadata": {
    "ExecuteTime": {
     "end_time": "2023-11-13T19:47:18.809562Z",
     "start_time": "2023-11-13T19:47:18.793876Z"
    }
   },
   "outputs": [],
   "source": [
    "df_CL.drop(4667, inplace=True)"
   ]
  },
  {
   "cell_type": "code",
   "execution_count": 28,
   "id": "c6e0da2f",
   "metadata": {
    "ExecuteTime": {
     "end_time": "2023-11-13T19:47:18.825663Z",
     "start_time": "2023-11-13T19:47:18.810335Z"
    }
   },
   "outputs": [],
   "source": [
    "# df_CL[4660:4670]\n",
    "\n",
    "# index now has a gap. This will close it\n",
    "df_CL.index = range(len(df_CL))"
   ]
  },
  {
   "cell_type": "code",
   "execution_count": 29,
   "id": "9fb2c59b",
   "metadata": {
    "ExecuteTime": {
     "end_time": "2023-11-13T19:47:18.841372Z",
     "start_time": "2023-11-13T19:47:18.826362Z"
    }
   },
   "outputs": [],
   "source": [
    "# df_EMProjectAssoc = dfs[???]\n",
    "# this one went away I guess?  Troubleshoot later if we actually end up needing it"
   ]
  },
  {
   "cell_type": "code",
   "execution_count": 30,
   "id": "41c6e415",
   "metadata": {
    "ExecuteTime": {
     "end_time": "2023-11-13T19:47:18.857018Z",
     "start_time": "2023-11-13T19:47:18.841372Z"
    }
   },
   "outputs": [],
   "source": [
    "# df_EMProjectAssoc.dropna(axis=1, how='all', inplace=True)"
   ]
  },
  {
   "cell_type": "code",
   "execution_count": 31,
   "id": "1330b5f8",
   "metadata": {
    "ExecuteTime": {
     "end_time": "2023-11-13T19:47:18.872787Z",
     "start_time": "2023-11-13T19:47:18.857792Z"
    }
   },
   "outputs": [],
   "source": [
    "# df_EMProjectAssoc.isna().sum()"
   ]
  },
  {
   "cell_type": "code",
   "execution_count": 32,
   "id": "89e54894",
   "metadata": {
    "ExecuteTime": {
     "end_time": "2023-11-13T19:47:22.246219Z",
     "start_time": "2023-11-13T19:47:18.874758Z"
    }
   },
   "outputs": [],
   "source": [
    "df_LD = dfs[2]\n",
    "df_LD.dropna(axis=1, how='all', inplace=True)"
   ]
  },
  {
   "cell_type": "code",
   "execution_count": null,
   "id": "3692c964",
   "metadata": {},
   "outputs": [],
   "source": [
    "df"
   ]
  },
  {
   "cell_type": "code",
   "execution_count": 33,
   "id": "e29d81bd",
   "metadata": {
    "ExecuteTime": {
     "end_time": "2023-11-13T19:47:23.852261Z",
     "start_time": "2023-11-13T19:47:22.246219Z"
    }
   },
   "outputs": [],
   "source": [
    "df_LD.drop(axis=1, labels=[\"TimekeeperEndDate\",\"Payrate\", \"PayOvtPct\", \"PaySpecialOvtPct\", \n",
    "                           \"SpecialOvtAmt\", \"SpecialOvtAmtBillingCurrency\", \"SpecialOvtAmtEmployeeCurrency\",\n",
    "                           \"SpecialOvtAmtProjectCurrency\", \"SpecialOvtRateBillingCurrency\",\n",
    "                           \"SpecialOvtRateEmployeeCurrency\", \"SpecialOvtRateProjectCurrency\",\n",
    "                           \"ProjectCost\", \"SpecialOvtHrs\",\"SpecialOvtAmt\", \"SpecialOvtPct\", \n",
    "                           \"SpecialOvtRate\", \"Pool\", \"BillingExchangeInfo\", \"TLProcessed\"], inplace=True) \n",
    "                            # basically null\n",
    "# df_LD.drop(axis=1, labels=[\"DebitLedgerMiscPKey\", \"CreditLedgerMiscPKey\"], inplace=True) \n",
    "                            # Don't know what these two are, probably not needed\n",
    "df_LD.drop(axis=1, labels=[\"PostSeq\", \"EmType\", \"SuppressBill\", \"SelPeriod\", \"SelPostSeq\",\n",
    "                           \"SelOvtPeriod\", \"SelOvtPostSeq\", \"SelPeriod\",\n",
    "                           \"SelPostSeq\", \"CostRateTableUsed\"], inplace=True) \n",
    "                            # potentially useful but taking them out for now\n",
    "df_LD.drop(axis=1, labels=[\"TransType\"], inplace=True) \n",
    "                            # only has values LA (> 100 entries) and TES (the other 1M +) don't know what they mean, probably not useful.\n",
    "df_LD.drop(axis=1, labels=[\"RegAmtBillingCurrency\", \"RegAmtEmployeeCurrency\",\n",
    "                           \"RegAmtProjectCurrency\", \"OvtAmtBillingCurrency\", \n",
    "                           \"OvtAmtEmployeeCurrency\", \"OvtAmtProjectCurrency\",\n",
    "                           \"RateBillingCurrency\", \"RateEmployeeCurrency\",\n",
    "                           \"RateProjectCurrency\", \"OvtRateBillingCurrency\", \n",
    "                           \"OvtRateEmployeeCurrency\", \"OvtRateProjectCurrency\",\n",
    "                           \"RealizationAmountBillingCurrency\", \"RealizationAmountEmployeeCurrency\",\n",
    "                           \"RealizationAmountProjectCurrency\"], inplace=True)\n",
    "                            # Unlikely to be needed"
   ]
  },
  {
   "cell_type": "code",
   "execution_count": 34,
   "id": "54efd620",
   "metadata": {
    "ExecuteTime": {
     "end_time": "2023-11-13T19:47:25.918829Z",
     "start_time": "2023-11-13T19:47:23.852261Z"
    }
   },
   "outputs": [],
   "source": [
    "# Check null counts\n",
    "null_counts = df_LD.isna().sum()\n",
    "# null_counts[0:25]"
   ]
  },
  {
   "cell_type": "code",
   "execution_count": 35,
   "id": "98dc0c28",
   "metadata": {
    "ExecuteTime": {
     "end_time": "2023-11-13T19:47:25.934283Z",
     "start_time": "2023-11-13T19:47:25.918829Z"
    }
   },
   "outputs": [
    {
     "data": {
      "text/plain": [
       "Index(['Period', 'PKey', 'WBS1', 'WBS2', 'WBS3', 'LaborCode', 'Employee',\n",
       "       'TransDate', 'Name', 'RegHrs', 'OvtHrs', 'RegAmt', 'OvtAmt', 'BillExt',\n",
       "       'Rate', 'OvtPct', 'OvtRate', 'Category', 'EmOrg', 'PrOrg', 'ChargeType',\n",
       "       'RateType', 'DebitLedgerMiscPKey', 'CreditLedgerMiscPKey', 'BillStatus',\n",
       "       'Comment', 'BilledWBS1', 'BilledWBS2', 'BilledWBS3', 'BilledInvoice',\n",
       "       'BilledPeriod', 'XferWBS1', 'XferWBS2', 'XferWBS3', 'XferLaborCode',\n",
       "       'WrittenOffPeriod', 'ProjectExchangeInfo', 'ExchangeInfo',\n",
       "       'XferCategory', 'NonBill', 'TransferredPeriod',\n",
       "       'TransferredBillStatus'],\n",
       "      dtype='object')"
      ]
     },
     "execution_count": 35,
     "metadata": {},
     "output_type": "execute_result"
    }
   ],
   "source": [
    "df_LD.columns"
   ]
  },
  {
   "cell_type": "code",
   "execution_count": 36,
   "id": "d4610bee",
   "metadata": {
    "ExecuteTime": {
     "end_time": "2023-11-13T19:47:26.217898Z",
     "start_time": "2023-11-13T19:47:25.934283Z"
    }
   },
   "outputs": [],
   "source": [
    "df_LD.drop(axis=1, labels=[\"DebitLedgerMiscPKey\",\"CreditLedgerMiscPKey\",\n",
    "                           \"ProjectExchangeInfo\", \"ExchangeInfo\",\n",
    "                          \"TransferredPeriod\", \"TransferredBillStatus\"], inplace=True) "
   ]
  },
  {
   "cell_type": "code",
   "execution_count": null,
   "id": "6aea755c",
   "metadata": {},
   "outputs": [],
   "source": []
  },
  {
   "cell_type": "code",
   "execution_count": null,
   "id": "d8491b84",
   "metadata": {
    "ExecuteTime": {
     "end_time": "2023-11-13T19:47:26.280776Z",
     "start_time": "2023-11-13T19:47:26.280776Z"
    }
   },
   "outputs": [],
   "source": [
    "df_LedgerAP = dfs[3]\n",
    "df_LedgerAP.dropna(axis=1, how='all', inplace=True)"
   ]
  },
  {
   "cell_type": "code",
   "execution_count": null,
   "id": "975ed88f",
   "metadata": {
    "ExecuteTime": {
     "end_time": "2023-11-13T19:47:26.280776Z",
     "start_time": "2023-11-13T19:47:26.280776Z"
    }
   },
   "outputs": [],
   "source": [
    "nullseries = df_LedgerAP.isnull().sum()\n",
    "print(nullseries[nullseries > 0])"
   ]
  },
  {
   "cell_type": "code",
   "execution_count": null,
   "id": "0f60dcdb",
   "metadata": {
    "ExecuteTime": {
     "end_time": "2023-11-13T19:47:26.280776Z",
     "start_time": "2023-11-13T19:47:26.280776Z"
    }
   },
   "outputs": [],
   "source": [
    "df_LedgerAP.shape"
   ]
  },
  {
   "cell_type": "code",
   "execution_count": null,
   "id": "619d5be8",
   "metadata": {
    "ExecuteTime": {
     "end_time": "2023-11-13T19:47:26.297461Z",
     "start_time": "2023-11-13T19:47:26.297461Z"
    }
   },
   "outputs": [],
   "source": [
    "df_LedgerAR = dfs[4]\n",
    "df_LedgerAR.dropna(axis=1, how='all', inplace=True)"
   ]
  },
  {
   "cell_type": "code",
   "execution_count": null,
   "id": "d7740c88",
   "metadata": {
    "ExecuteTime": {
     "end_time": "2023-11-13T19:47:26.297461Z",
     "start_time": "2023-11-13T19:47:26.297461Z"
    }
   },
   "outputs": [],
   "source": [
    "# Check null counts\n",
    "null_counts = df_LedgerAR.isna().sum()\n",
    "null_counts"
   ]
  },
  {
   "cell_type": "code",
   "execution_count": null,
   "id": "19035bc8",
   "metadata": {
    "ExecuteTime": {
     "end_time": "2023-11-13T19:47:26.297461Z",
     "start_time": "2023-11-13T19:47:26.297461Z"
    }
   },
   "outputs": [],
   "source": [
    "null_counts[0:30]"
   ]
  },
  {
   "cell_type": "code",
   "execution_count": null,
   "id": "9d78bd63",
   "metadata": {
    "ExecuteTime": {
     "end_time": "2023-11-13T19:47:26.297461Z",
     "start_time": "2023-11-13T19:47:26.297461Z"
    }
   },
   "outputs": [],
   "source": [
    "# B - To be billed, W - To be written off, H - Held, F - Final billed, \n",
    "# X - Written off, T - Transferred, I - Inserted, M - Modified, \n",
    "# D - To be deleted, N - Not billable, O - Deleted, R - Partial hold/Released.\n",
    "df_LedgerAR[\"TransferredPeriod\"].value_counts()"
   ]
  },
  {
   "cell_type": "code",
   "execution_count": null,
   "id": "0778cbf6",
   "metadata": {
    "ExecuteTime": {
     "end_time": "2023-11-13T19:47:26.297461Z",
     "start_time": "2023-11-13T19:47:26.297461Z"
    }
   },
   "outputs": [],
   "source": [
    "df_LedgerAR.drop(axis=1, labels=[], inplace=True)"
   ]
  },
  {
   "cell_type": "code",
   "execution_count": null,
   "id": "7d14697d",
   "metadata": {
    "ExecuteTime": {
     "end_time": "2023-11-13T19:47:26.313785Z",
     "start_time": "2023-11-13T19:47:26.313785Z"
    }
   },
   "outputs": [],
   "source": [
    "df_LedgerAR.drop(axis=1, labels=[\"PostSeq\", \"Account\", \"CBAmount\", \"CBAmountTaxCurrency\",\n",
    "                                \"CreditMemoRefNo\", \"SuppressBill\", \"AutoEntry\",\n",
    "                                \"AutoEntryAmount\", \"SkipGL\", \"BankCode\", \"PartialPayment\", \n",
    "                                 \"Line\", \"Discount\", \"UnitBillExt\", \"UnitBillingRate\", \n",
    "                                 \"UnitCostRate\", \"UnitCostRateBillingCurrency\", \"UnitQuantity\",\n",
    "                                 \"TaxBasis\", \"TaxBasisFunctionalCurrency\", \"TaxBasisTaxCurrency\",\n",
    "                                 \"TaxCBBasis\", \"TaxCBBasisFunctionalCurrency\", \"ExchangeInfo\",\n",
    "                                 \"TaxCode\", \"XferAccount\", \"TransferredBillStatus\",\n",
    "                                 \"BillingExchangeInfo\", \"ProjectExchangeInfo\", \"SubType\",\n",
    "                                 \"TaxCBBasisTaxCurrency\", \"WrittenOffPeriod\", \n",
    "                                 \"AmountBillingCurrency\", \"AmountSourceCurrency\",\n",
    "                                 \"AmountProjectCurrency\", \"AmountTaxCurrency\",\n",
    "                                 \"UnitCostRateBillingCurrency\", \"TaxCBBasis\",\n",
    "                                 \"TaxCBBasisFunctionalCurrency\", \"TaxCBBasisTaxCurrency\",\n",
    "                                 \"DiscountFunctionalCurrency\", \"RealizationAmountBillingCurrency\",\n",
    "                                 \"RealizationAmountEmployeeCurrency\", \"RealizationAmountProjectCurrency\",\n",
    "                                 \"OriginalAmountSourceCurrency\", \"InProcessAccount\",\n",
    "                                 \"InProcessAccountCleared\", \"EKOriginalLine\", \"DiaryNo\",\n",
    "                                 \"TransferredPeriod\"], inplace=True)"
   ]
  },
  {
   "cell_type": "code",
   "execution_count": null,
   "id": "dd23c458",
   "metadata": {
    "ExecuteTime": {
     "end_time": "2023-11-13T19:47:26.313785Z",
     "start_time": "2023-11-13T19:47:26.313785Z"
    }
   },
   "outputs": [],
   "source": [
    "df_LedgerAR.shape"
   ]
  },
  {
   "cell_type": "code",
   "execution_count": null,
   "id": "123766fa",
   "metadata": {
    "ExecuteTime": {
     "end_time": "2023-11-13T19:47:26.313785Z",
     "start_time": "2023-11-13T19:47:26.313785Z"
    }
   },
   "outputs": [],
   "source": [
    "df_LedgerEX = dfs[5]\n",
    "df_LedgerEX.dropna(axis=1, how='all', inplace=True)"
   ]
  },
  {
   "cell_type": "code",
   "execution_count": null,
   "id": "522841fc",
   "metadata": {
    "ExecuteTime": {
     "end_time": "2023-11-13T19:47:26.313785Z",
     "start_time": "2023-11-13T19:47:26.313785Z"
    }
   },
   "outputs": [],
   "source": [
    "nullseries = df_LedgerEX.isnull().sum()\n",
    "print(nullseries[nullseries > 0])"
   ]
  },
  {
   "cell_type": "code",
   "execution_count": null,
   "id": "8747dd40",
   "metadata": {
    "ExecuteTime": {
     "end_time": "2023-11-13T19:47:26.328574Z",
     "start_time": "2023-11-13T19:47:26.328574Z"
    }
   },
   "outputs": [],
   "source": [
    "df_LedgerMisc = dfs[6]\n",
    "# df_LedgerMisc.dropna(axis=1, how='all', inplace=True)"
   ]
  },
  {
   "cell_type": "code",
   "execution_count": null,
   "id": "0a4121a8",
   "metadata": {
    "ExecuteTime": {
     "end_time": "2023-11-13T19:47:26.328574Z",
     "start_time": "2023-11-13T19:47:26.328574Z"
    }
   },
   "outputs": [],
   "source": [
    "nullseries = df_LedgerMisc.isnull().sum()\n",
    "print(nullseries[nullseries > 0])"
   ]
  },
  {
   "cell_type": "code",
   "execution_count": null,
   "id": "6e565d8f",
   "metadata": {
    "ExecuteTime": {
     "end_time": "2023-11-13T19:47:26.328574Z",
     "start_time": "2023-11-13T19:47:26.328574Z"
    }
   },
   "outputs": [],
   "source": [
    "df_LedgerMisc_TEST = pd.read_excel('Vision_Data/Vision Data Master Copy.xlsx', sheet_name='LedgerMisc')"
   ]
  },
  {
   "cell_type": "code",
   "execution_count": null,
   "id": "4e82d152",
   "metadata": {
    "ExecuteTime": {
     "end_time": "2023-11-13T19:47:26.328574Z",
     "start_time": "2023-11-13T19:47:26.328574Z"
    }
   },
   "outputs": [],
   "source": [
    "df_LedgerMisc_TEST['AutoEntryAccount'].isna().sum() / len(df_LedgerMisc_TEST['AutoEntryAccount'])"
   ]
  },
  {
   "cell_type": "code",
   "execution_count": null,
   "id": "8971f90f",
   "metadata": {
    "ExecuteTime": {
     "end_time": "2023-11-13T19:47:26.338588Z",
     "start_time": "2023-11-13T19:47:26.338588Z"
    }
   },
   "outputs": [],
   "source": [
    "df_LedgerMisc.drop('AutoEntryOrg', axis=1, inplace=True)\n",
    "df_LedgerMisc.drop('AutoEntryAccount', axis=1, inplace=True)\n",
    "# already dropped somewhere else? keeps erroring, even though these should be in the df"
   ]
  },
  {
   "cell_type": "code",
   "execution_count": null,
   "id": "c032c54e",
   "metadata": {
    "ExecuteTime": {
     "end_time": "2023-11-13T19:47:26.338588Z",
     "start_time": "2023-11-13T19:47:26.338588Z"
    }
   },
   "outputs": [],
   "source": [
    "df_Opportunity = dfs[7]"
   ]
  },
  {
   "cell_type": "code",
   "execution_count": null,
   "id": "a1980507",
   "metadata": {
    "ExecuteTime": {
     "end_time": "2023-11-13T19:47:26.344222Z",
     "start_time": "2023-11-13T19:47:26.344222Z"
    }
   },
   "outputs": [],
   "source": [
    "df_Opportunity.dropna(axis=1, how='all', inplace=True)"
   ]
  },
  {
   "cell_type": "code",
   "execution_count": null,
   "id": "1b722204",
   "metadata": {
    "ExecuteTime": {
     "end_time": "2023-11-13T19:47:26.344222Z",
     "start_time": "2023-11-13T19:47:26.344222Z"
    }
   },
   "outputs": [],
   "source": [
    "df_Opportunity.isna().sum()"
   ]
  },
  {
   "cell_type": "code",
   "execution_count": null,
   "id": "9c3fb337",
   "metadata": {
    "ExecuteTime": {
     "end_time": "2023-11-13T19:47:26.344222Z",
     "start_time": "2023-11-13T19:47:26.344222Z"
    },
    "scrolled": false
   },
   "outputs": [],
   "source": [
    "df_Opportunity[\"PRProposalWBS1\"].value_counts()"
   ]
  },
  {
   "cell_type": "code",
   "execution_count": null,
   "id": "0204e4f0",
   "metadata": {
    "ExecuteTime": {
     "end_time": "2023-11-13T19:47:26.344222Z",
     "start_time": "2023-11-13T19:47:26.344222Z"
    }
   },
   "outputs": [],
   "source": [
    "df_Opportunity.drop(axis=1, labels=[\"ProposalManager\", \"OurRole\", \"NAICS\", \"CompetitionType\", \n",
    "                                    \"ContractTypeGovCon\", \"Duration\", \"AwardType\", \"ClosedNotes\",\n",
    "                                    \"ClosedReason\", \"CustomCurrencyCode\", \"SolicitationNum\",\n",
    "                                    \"PublicNoticeDate\", \"Source\", \"Opportunity\"], inplace=True)"
   ]
  },
  {
   "cell_type": "code",
   "execution_count": null,
   "id": "0a769381",
   "metadata": {
    "ExecuteTime": {
     "end_time": "2023-11-13T19:47:26.344222Z",
     "start_time": "2023-11-13T19:47:26.344222Z"
    }
   },
   "outputs": [],
   "source": [
    "df_Opportunity.shape"
   ]
  },
  {
   "cell_type": "code",
   "execution_count": null,
   "id": "1464be9b",
   "metadata": {
    "ExecuteTime": {
     "end_time": "2023-11-13T19:47:26.344222Z",
     "start_time": "2023-11-13T19:47:26.344222Z"
    }
   },
   "outputs": [],
   "source": [
    "df_OpportunityCustomTabFields = dfs[8]"
   ]
  },
  {
   "cell_type": "code",
   "execution_count": null,
   "id": "52758ea2",
   "metadata": {
    "ExecuteTime": {
     "end_time": "2023-11-13T19:47:26.344222Z",
     "start_time": "2023-11-13T19:47:26.344222Z"
    }
   },
   "outputs": [],
   "source": [
    "df_OpportunityCustomTabFields.dropna(axis=1, how='all', inplace=True)"
   ]
  },
  {
   "cell_type": "code",
   "execution_count": null,
   "id": "18939171",
   "metadata": {
    "ExecuteTime": {
     "end_time": "2023-11-13T19:47:26.359735Z",
     "start_time": "2023-11-13T19:47:26.359735Z"
    }
   },
   "outputs": [],
   "source": [
    "df_OpportunityCustomTabFields.isna().sum()"
   ]
  },
  {
   "cell_type": "code",
   "execution_count": null,
   "id": "10eb7074",
   "metadata": {},
   "outputs": [],
   "source": [
    "# df_PR = dfs[9] # old version"
   ]
  },
  {
   "cell_type": "code",
   "execution_count": 44,
   "id": "e6a4db0b",
   "metadata": {
    "ExecuteTime": {
     "end_time": "2023-12-19T22:13:14.490672Z",
     "start_time": "2023-12-19T22:13:12.837816Z"
    }
   },
   "outputs": [
    {
     "name": "stderr",
     "output_type": "stream",
     "text": [
      "C:\\Users\\jhoward\\AppData\\Local\\Temp\\ipykernel_28556\\1341259585.py:15: SettingWithCopyWarning: \n",
      "A value is trying to be set on a copy of a slice from a DataFrame\n",
      "\n",
      "See the caveats in the documentation: https://pandas.pydata.org/pandas-docs/stable/user_guide/indexing.html#returning-a-view-versus-a-copy\n",
      "  df_PR[['BillWBS1', 'BillWBS2', 'BillWBS3', 'Address2', 'Address3', 'Zip', 'County', 'BidDate',\n"
     ]
    }
   ],
   "source": [
    "## updating DF_PR from SQL, 12-19-23\n",
    "\n",
    "# dtype doesn't handle datetime, so I need this\n",
    "parse_dates = ['EndDate', 'ActCompletionDate']\n",
    "\n",
    "df_PR = pd.read_csv('Vision_Data/SQL/PR.csv',\n",
    "                    dtype={'BillWBS1': str, 'BillWBS2': str, 'BillWBS3': str, 'Address2': str, 'Address3': str,\n",
    "                           'Zip': str, 'County': str, 'BidDate': str, 'ClientAlias': str,  'FirmCostComment': str,\n",
    "                           'TotalCostComment': str, 'OpportunityID': str, 'Phone': str, 'Fax': str, 'EMail': str,\n",
    "                           'ProposalWBS1': str, 'ProfServicesComplDate': str, 'RevUpsetWBS2': str, 'RevUpsetWBS3': str,\n",
    "                           'PhoneFormat': str, 'FaxFormat': str},\n",
    "                    parse_dates=parse_dates, \n",
    "                    index_col=0)\n",
    "\n",
    "df_PR[['BillWBS1', 'BillWBS2', 'BillWBS3', 'Address2', 'Address3', 'Zip', 'County', 'BidDate',\n",
    "       'ClientAlias', 'FirmCostComment', 'TotalCostComment', 'OpportunityID', 'Phone', 'Fax',\n",
    "       'EMail', 'ProposalWBS1', 'ProfServicesComplDate', 'RevUpsetWBS2', 'RevUpsetWBS3',\n",
    "       'PhoneFormat', 'FaxFormat']].fillna('', inplace=True)"
   ]
  },
  {
   "cell_type": "code",
   "execution_count": 45,
   "id": "21090215",
   "metadata": {
    "ExecuteTime": {
     "end_time": "2023-12-19T22:13:14.506609Z",
     "start_time": "2023-12-19T22:13:14.490672Z"
    }
   },
   "outputs": [],
   "source": [
    "pr_dropcols = [\"Fee\", \"ReimbAllow\", \"ConsultFee\", \"BudOHRate\", \"Status\", \"RevType\", \"MultAmt\", \"Org\",\n",
    "               \"UnitTable\", \"PctComp\",  \"LabPctComp\", \"ExpPctComp\", \"BillableWarning\", \"Memo\",\n",
    "               \"BudgetedFlag\", \"XCharge\", \"XChargeMethod\", \"XChargeMult\", \"Closed\", \"ReadOnly\",\n",
    "               \"DefaultEffortDriven\", \"DefaultTaskType\", \"VersionID\", \"FirmCostComment\", \"TotalCostComment\",\n",
    "               \"OpportunityID\", \"ClientConfidential\", \"AvailableForCRM\", \"ReadyForApproval\", \"ReadyForProcessing\",\n",
    "               \"Phone\", \"Fax\", \"EMail\", \"ProposalWBS1\", \"CostRateMeth\", \"CostRateTableNo\", \"PayRateMeth\",\n",
    "               \"PayRateTableNo\", \"ProfServicesComplDate\", \"ProjectExchangeRate\", \"BillingExchangeRate\",\n",
    "               \"RestrictChargeCompanies\", \"FeeBillingCurrency\",  \"ReimbAllowBillingCurrency\", \"BidDate\",\n",
    "               \"ConsultFeeBillingCurrency\", \"RevUpsetLimits\", \"RevUpsetWBS2\", \"RevUpsetWBS3\",\n",
    "               \"RevUpsetIncludeComp\", \"RevUpsetIncludeCons\", \"RevUpsetIncludeReimb\", \"PORMBRate\", \"POCNSRate\",\n",
    "               \"TKCheckRPDate\", \"ICBillingLab\", \"ICBillingLabMethod\", \"ICBillingLabMult\", \"ICBillingExp\",\n",
    "               \"ICBillingExpMethod\", \"ICBillingExpMult\", \"CreateUser\",  \"CreateDate\", \"ModUser\", \"ModDate\",\n",
    "               \"RequireComments\",  \"TKCheckRPPlannedHrs\", \"BillByDefaultConsultants\",  \"BillByDefaultOtherExp\",\n",
    "               \"BillByDefaultORTable\", \"PhoneFormat\", \"FaxFormat\", \"RevType2\", \"RevType3\", \"RevType4\", \"RevType5\",\n",
    "               \"RevUpsetCategoryToAdjust\", \"FeeFunctionalCurrency\", \"ReimbAllowFunctionalCurrency\",\n",
    "               \"ConsultFeeFunctionalCurrency\", \"RevenueMethod\", \"ICBillingLabTableNo\", \"ICBillingExpTableNo\",\n",
    "               \"FeeDirLab\", \"FeeDirExp\", \"ReimbAllowExp\", \"ReimbAllowCons\", \"FeeDirLabBillingCurrency\",\n",
    "               \"FeeDirExpBillingCurrency\", \"ReimbAllowExpBillingCurrency\", \"ReimbAllowConsBillingCurrency\",\n",
    "               \"FeeDirLabFunctionalCurrency\", \"FeeDirExpFunctionalCurrency\", \"ReimbAllowExpFunctionalCurrency\",\n",
    "               \"ReimbAllowConsFunctionalCurrency\", \"RevUpsetIncludeCompDirExp\", \"RevUpsetIncludeReimbCons\",\n",
    "               \"AjeraSync\", \"FESurchargePct\", \"FESurcharge\", \"FEAddlExpensesPct\", \"FEAddlExpenses\", \"FEOtherPct\",\n",
    "               \"FEOther\", \"AjeraSpentLabor\", \"AjeraSpentReimbursable\", \"AjeraSpentConsultant\", \"AjeraCostLabor\",\n",
    "               \"AjeraCostReimbursable\", \"AjeraCostConsultant\", \"AjeraWIPLabor\", \"AjeraWIPReimbursable\",\n",
    "               \"AjeraWIPConsultant\", \"AjeraBilledLabor\", \"AjeraBilledReimbursable\", \"AjeraBilledConsultant\",\n",
    "               \"AjeraReceivedLabor\", \"AjeraReceivedReimbursable\", \"AjeraReceivedConsultant\", \"PIMID\"]"
   ]
  },
  {
   "cell_type": "code",
   "execution_count": 46,
   "id": "e6da0006",
   "metadata": {
    "ExecuteTime": {
     "end_time": "2023-12-19T22:13:14.522335Z",
     "start_time": "2023-12-19T22:13:14.506609Z"
    }
   },
   "outputs": [],
   "source": [
    "# adding dtype specifications to avoid issues\n",
    "error_column_indices = [60,62,63,71,72,73,74,79,87,88,110,111]\n",
    "## BE SURE TO UPDATE BEFORE RUNNING\n",
    "\n",
    "# Map the column indices to column names\n",
    "column_names = df_PR.columns\n",
    "error_column_names = [column_names[i] for i in error_column_indices]"
   ]
  },
  {
   "cell_type": "code",
   "execution_count": 47,
   "id": "c426dc60",
   "metadata": {
    "ExecuteTime": {
     "end_time": "2023-12-19T22:13:14.538165Z",
     "start_time": "2023-12-19T22:13:14.523938Z"
    }
   },
   "outputs": [
    {
     "data": {
      "text/plain": [
       "['ClientAlias']"
      ]
     },
     "execution_count": 47,
     "metadata": {},
     "output_type": "execute_result"
    }
   ],
   "source": [
    "# Now filter out the ones I plan to drop anyway\n",
    "pr_dropcols = [col for col in error_column_names if col not in pr_dropcols]\n",
    "pr_dropcols"
   ]
  },
  {
   "cell_type": "code",
   "execution_count": 48,
   "id": "c6964420",
   "metadata": {
    "ExecuteTime": {
     "end_time": "2023-12-19T22:13:15.303237Z",
     "start_time": "2023-12-19T22:13:15.273797Z"
    }
   },
   "outputs": [],
   "source": [
    "# not sure why ['ClientAlias'] is still mixed type.  Easy enough to fix though.\n",
    "df_PR['ClientAlias'].fillna('', inplace=True)"
   ]
  },
  {
   "cell_type": "code",
   "execution_count": 49,
   "id": "ec60c5ce",
   "metadata": {
    "ExecuteTime": {
     "end_time": "2023-12-19T22:13:15.812039Z",
     "start_time": "2023-12-19T22:13:15.747484Z"
    }
   },
   "outputs": [],
   "source": [
    "df_PR['ClientAlias'] = df_PR['ClientAlias'].astype(str)"
   ]
  },
  {
   "cell_type": "code",
   "execution_count": 50,
   "id": "061ebae4",
   "metadata": {
    "ExecuteTime": {
     "end_time": "2023-12-19T22:13:16.177035Z",
     "start_time": "2023-12-19T22:13:16.153943Z"
    }
   },
   "outputs": [
    {
     "data": {
      "text/plain": [
       "dtype('O')"
      ]
     },
     "execution_count": 50,
     "metadata": {},
     "output_type": "execute_result"
    }
   ],
   "source": [
    "df_PR['ClientAlias'].dtypes"
   ]
  },
  {
   "cell_type": "code",
   "execution_count": 53,
   "id": "85783ff0",
   "metadata": {
    "ExecuteTime": {
     "end_time": "2023-12-19T22:13:32.048261Z",
     "start_time": "2023-12-19T22:13:31.589947Z"
    }
   },
   "outputs": [],
   "source": [
    "iterable_PR = [row for row in df_PR.index]\n",
    "for i in iterable_PR:\n",
    "    if type(df_PR['ClientAlias'][i]) != str:\n",
    "        print(type(df_PR['ClientAlias'][i]))"
   ]
  },
  {
   "cell_type": "code",
   "execution_count": 54,
   "id": "36ea9786",
   "metadata": {
    "ExecuteTime": {
     "end_time": "2023-12-19T22:13:34.873281Z",
     "start_time": "2023-12-19T22:13:34.869643Z"
    }
   },
   "outputs": [],
   "source": [
    "## well I don't knwo what's up, every individual row is a str but it still has dtype('0')\n",
    "# going to hope it's not an issue."
   ]
  },
  {
   "cell_type": "code",
   "execution_count": 55,
   "id": "5637a086",
   "metadata": {
    "ExecuteTime": {
     "end_time": "2023-12-19T22:13:35.909942Z",
     "start_time": "2023-12-19T22:13:35.899746Z"
    }
   },
   "outputs": [],
   "source": [
    "# this was how I quickly checked dtypes\n",
    "# df_PR['##COLTOCHECK##'].value_counts()\n",
    "# df_PR['##COLTOCHECK##'].isna().sum()\n",
    "# df_PR[df_PR['##COLTOCHECK##'].notnull()] # get some indexes\n",
    "# type(df_PR['##COLTOCHECK##'].loc[#INDEX#])\n",
    "\n",
    "# df_PR['BillingContactID'].value_counts()\n",
    "# df_PR['BillingContactID'].isna().sum()\n",
    "# df_PR['BillingContactID'].dtypes\n",
    "#  'FirmCostComment',\n",
    "#  'TotalCostComment',\n",
    "#  'OpportunityID',\n",
    "#  'Phone',\n",
    "#  'Fax',\n",
    "#  'EMail',\n",
    "#  'ProposalWBS1',\n",
    "#  'ProfServicesComplDate',\n",
    "#  'RevUpsetWBS2',\n",
    "#  'RevUpsetWBS3',\n",
    "#  'PhoneFormat',\n",
    "#  'FaxFormat'\n",
    "# ['FirmCost', 'TotalProjectCost', 'BillingContactID']\n",
    "# BillingContactID as string, the others are fine as is."
   ]
  },
  {
   "cell_type": "code",
   "execution_count": 56,
   "id": "21011c6c",
   "metadata": {
    "ExecuteTime": {
     "end_time": "2023-12-19T22:13:41.209608Z",
     "start_time": "2023-12-19T22:13:38.319967Z"
    }
   },
   "outputs": [],
   "source": [
    "# found an issue with nulls that weren't actually nulls\n",
    "# df_PR['WBS3'][df_PR['WBS3'] == ' '] = None\n",
    "\n",
    "# in fact I may as well apply that to all columns\n",
    "df_PR = df_PR.applymap(lambda x: None if x == ' ' else x)"
   ]
  },
  {
   "cell_type": "code",
   "execution_count": 57,
   "id": "6c6cde45",
   "metadata": {
    "ExecuteTime": {
     "end_time": "2023-12-19T22:13:41.321358Z",
     "start_time": "2023-12-19T22:13:41.209608Z"
    }
   },
   "outputs": [],
   "source": [
    "df_PR.drop(axis=1, labels=pr_dropcols, inplace=True)"
   ]
  },
  {
   "cell_type": "code",
   "execution_count": 58,
   "id": "f821495c",
   "metadata": {
    "ExecuteTime": {
     "end_time": "2023-12-19T22:13:43.450142Z",
     "start_time": "2023-12-19T22:13:41.379747Z"
    }
   },
   "outputs": [],
   "source": [
    "df_PR.dropna(axis=1, how='all', inplace=True)\n",
    "# Check null counts\n",
    "null_counts = df_PR.isna().sum()"
   ]
  },
  {
   "cell_type": "code",
   "execution_count": 59,
   "id": "90112d0f",
   "metadata": {
    "ExecuteTime": {
     "end_time": "2023-12-19T22:13:43.721754Z",
     "start_time": "2023-12-19T22:13:43.709628Z"
    }
   },
   "outputs": [
    {
     "data": {
      "text/plain": [
       "WBS1                 0\n",
       "WBS2             15673\n",
       "WBS3             38878\n",
       "Name                 0\n",
       "ChargeType           0\n",
       "SubLevel             0\n",
       "Principal         2960\n",
       "ProjMgr           4029\n",
       "Supervisor       21769\n",
       "ClientID            48\n",
       "CLAddress          428\n",
       "Fee                  0\n",
       "ReimbAllow           0\n",
       "ConsultFee           0\n",
       "BudOHRate            0\n",
       "Status               0\n",
       "RevType              0\n",
       "MultAmt              0\n",
       "Org                  2\n",
       "StartDate         9387\n",
       "EndDate          79608\n",
       "PctComp              0\n",
       "LabPctComp           0\n",
       "ExpPctComp           0\n",
       "BillByDefault        0\n",
       "dtype: int64"
      ]
     },
     "execution_count": 59,
     "metadata": {},
     "output_type": "execute_result"
    }
   ],
   "source": [
    "null_counts[0:25]"
   ]
  },
  {
   "cell_type": "code",
   "execution_count": 60,
   "id": "28d12210",
   "metadata": {
    "ExecuteTime": {
     "end_time": "2023-12-19T22:13:51.194926Z",
     "start_time": "2023-12-19T22:13:51.179668Z"
    },
    "scrolled": true
   },
   "outputs": [],
   "source": [
    "## don't remember what this was, doesn't appear to apply to new version\n",
    "# df_PR.drop([76357, 77407, 77507], inplace=True)\n",
    "# df_PR.loc[77407]"
   ]
  },
  {
   "cell_type": "code",
   "execution_count": 61,
   "id": "fa6aa97f",
   "metadata": {
    "ExecuteTime": {
     "end_time": "2023-12-19T22:13:52.838403Z",
     "start_time": "2023-12-19T22:13:52.819591Z"
    }
   },
   "outputs": [],
   "source": [
    "# df_PR['Biller'].value_counts() # practically no information and unlikely to be relevant\n",
    "# df_PR['LineItemApproval'].value_counts() # same value on every line, useless\n",
    "# df_PR['LineItemApprovalEK'].value_counts() # this one has info but it's just not relevant to the project"
   ]
  },
  {
   "cell_type": "code",
   "execution_count": 62,
   "id": "6b4a1388",
   "metadata": {
    "ExecuteTime": {
     "end_time": "2023-12-19T22:13:55.389691Z",
     "start_time": "2023-12-19T22:13:55.369515Z"
    },
    "scrolled": true
   },
   "outputs": [],
   "source": [
    "# df_PR.drop(axis=1, labels=[\"AwardType\", \"Duration\", \"ContractTypeGovCon\", \"MasterContract\",\n",
    "#                            \"Biller\", \"PlanID\", \"BillingCurrencyCode\", \"Locale\", \"LineItemApproval\",\n",
    "#                            \"LineItemApprovalEK\", \"BudgetSource\", \"BudgetLevel\", \"ConstComplDate\",\n",
    "#                            \"ProjectCurrencyCode\"], inplace=True)\n",
    "## Old version.  Most of these columns no longer exist at this point anyway.\n",
    "\n",
    "# df_PR.drop(axis=1, labels=[\"Biller\", \"LineItemApproval\", \"LineItemApprovalEK\"], inplace=True)\n",
    "## again, made unnecessary by other cleaning"
   ]
  },
  {
   "cell_type": "code",
   "execution_count": 63,
   "id": "e3e0e618",
   "metadata": {
    "ExecuteTime": {
     "end_time": "2023-12-19T22:13:56.665694Z",
     "start_time": "2023-12-19T22:13:56.649988Z"
    }
   },
   "outputs": [
    {
     "data": {
      "text/plain": [
       "(80907, 156)"
      ]
     },
     "execution_count": 63,
     "metadata": {},
     "output_type": "execute_result"
    }
   ],
   "source": [
    "df_PR.shape"
   ]
  },
  {
   "cell_type": "code",
   "execution_count": 64,
   "id": "8e155e10",
   "metadata": {
    "ExecuteTime": {
     "end_time": "2023-12-19T22:14:00.065714Z",
     "start_time": "2023-12-19T22:14:00.044338Z"
    }
   },
   "outputs": [],
   "source": [
    "def column_detail(df, colname):\n",
    "    col_length = len(df[colname])\n",
    "    nans_count = df[colname].isna().sum()\n",
    "    samples = df[df[colname].notnull()].sample(6)\n",
    "    data_types = df[colname].dtypes\n",
    "    val_ct = df[colname].value_counts()\n",
    "    print(f'Column is {col_length} long, has {nans_count} NaNs, and has dtype: {data_types}')\n",
    "    print(f'Sample of column content: {samples}')\n",
    "    print(f'Value Counts: {val_ct}')"
   ]
  },
  {
   "cell_type": "code",
   "execution_count": 65,
   "id": "03c8966a",
   "metadata": {
    "ExecuteTime": {
     "end_time": "2023-12-19T22:14:00.514642Z",
     "start_time": "2023-12-19T22:14:00.299653Z"
    }
   },
   "outputs": [
    {
     "name": "stdout",
     "output_type": "stream",
     "text": [
      "Column is 80907 long, has 0 NaNs, and has dtype: object\n",
      "Sample of column content:                   WBS1 WBS2 WBS3                 Name ChargeType SubLevel  \\\n",
      "61256  R10.2020.000355  001  NaN    Physical Security          R        Y   \n",
      "44809  R01.2008.005847  001  002          Office Time          R        N   \n",
      "39190  R01.2004.004120  002  NaN  Additional Services          R        Y   \n",
      "66094  R01.2014.008079  017  001       Okinawa, Japan          R        N   \n",
      "32254  R01.2000.02327H  005  ZZZ             AR PHASE          R        N   \n",
      "38479  R01.2004.004009  001  ZZZ             AR PHASE          R        N   \n",
      "\n",
      "       Principal  ProjMgr  Supervisor                          ClientID  ...  \\\n",
      "61256      309.0    311.0       311.0  065D685401974FB0B666E6E68CECF59D  ...   \n",
      "44809       62.0     52.0        52.0                           ROTONDA  ...   \n",
      "39190       58.0     58.0         NaN                        PORTOVECCH  ...   \n",
      "66094       88.0     88.0        75.0  392CB1E84E98497795C2264D1DD0259A  ...   \n",
      "32254       63.0     71.0         NaN                            VATECH  ...   \n",
      "38479       58.0     58.0         NaN                        LEGUMNORMA  ...   \n",
      "\n",
      "      AjeraWIPReimbursable  AjeraWIPConsultant  AjeraBilledLabor  \\\n",
      "61256                  0.0                 0.0               0.0   \n",
      "44809                  0.0                 0.0               0.0   \n",
      "39190                  0.0                 0.0               0.0   \n",
      "66094                  0.0                 0.0               0.0   \n",
      "32254                  0.0                 0.0               0.0   \n",
      "38479                  0.0                 0.0               0.0   \n",
      "\n",
      "       AjeraBilledReimbursable  AjeraBilledConsultant AjeraReceivedLabor  \\\n",
      "61256                      0.0                    0.0                0.0   \n",
      "44809                      0.0                    0.0                0.0   \n",
      "39190                      0.0                    0.0                0.0   \n",
      "66094                      0.0                    0.0                0.0   \n",
      "32254                      0.0                    0.0                0.0   \n",
      "38479                      0.0                    0.0                0.0   \n",
      "\n",
      "      AjeraReceivedReimbursable  AjeraReceivedConsultant FEOther.1  \\\n",
      "61256                       0.0                      0.0       0.0   \n",
      "44809                       0.0                      0.0       0.0   \n",
      "39190                       0.0                      0.0       0.0   \n",
      "66094                       0.0                      0.0       0.0   \n",
      "32254                       0.0                      0.0       0.0   \n",
      "38479                       0.0                      0.0       0.0   \n",
      "\n",
      "                 PIMID  \n",
      "61256  R10.2020.000355  \n",
      "44809  R01.2008.005847  \n",
      "39190  R01.2004.004120  \n",
      "66094  R01.2014.008079  \n",
      "32254  R01.2000.02327H  \n",
      "38479  R01.2004.004009  \n",
      "\n",
      "[6 rows x 156 columns]\n",
      "Value Counts: N    42191\n",
      "Y    38716\n",
      "Name: SubLevel, dtype: int64\n"
     ]
    }
   ],
   "source": [
    "column_detail(df_PR, 'SubLevel')"
   ]
  },
  {
   "cell_type": "code",
   "execution_count": 67,
   "id": "a1afa4dd",
   "metadata": {
    "ExecuteTime": {
     "end_time": "2023-12-19T22:14:05.249007Z",
     "start_time": "2023-12-19T22:14:05.244370Z"
    }
   },
   "outputs": [],
   "source": [
    "## And that's it\n",
    "# df_PR.to_pickle('Vision_Data/working_data/PR.pkl')"
   ]
  },
  {
   "cell_type": "code",
   "execution_count": null,
   "id": "f57a211b",
   "metadata": {},
   "outputs": [],
   "source": []
  },
  {
   "cell_type": "code",
   "execution_count": null,
   "id": "a9f836cc",
   "metadata": {
    "ExecuteTime": {
     "end_time": "2023-11-13T19:47:26.359735Z",
     "start_time": "2023-11-13T19:47:26.359735Z"
    }
   },
   "outputs": [],
   "source": [
    "df_Projects_BillingProjections = dfs[10]"
   ]
  },
  {
   "cell_type": "code",
   "execution_count": null,
   "id": "ca34d10b",
   "metadata": {
    "ExecuteTime": {
     "end_time": "2023-11-13T19:47:26.375373Z",
     "start_time": "2023-11-13T19:47:26.375373Z"
    }
   },
   "outputs": [],
   "source": [
    "df_Projects_BillingProjections.isna().sum()"
   ]
  },
  {
   "cell_type": "code",
   "execution_count": null,
   "id": "4b7b2c83",
   "metadata": {
    "ExecuteTime": {
     "end_time": "2023-11-13T19:47:26.375373Z",
     "start_time": "2023-11-13T19:47:26.375373Z"
    }
   },
   "outputs": [],
   "source": [
    "df_Projects_BillingProjections.shape"
   ]
  },
  {
   "cell_type": "code",
   "execution_count": null,
   "id": "718c97f6",
   "metadata": {
    "ExecuteTime": {
     "end_time": "2023-11-13T19:47:26.375373Z",
     "start_time": "2023-11-13T19:47:26.375373Z"
    }
   },
   "outputs": [],
   "source": [
    "df_Projects_ProjectSetup = dfs[11]"
   ]
  },
  {
   "cell_type": "code",
   "execution_count": null,
   "id": "2efd1927",
   "metadata": {
    "ExecuteTime": {
     "end_time": "2023-11-13T19:47:26.375373Z",
     "start_time": "2023-11-13T19:47:26.375373Z"
    }
   },
   "outputs": [],
   "source": [
    "df_Projects_ProjectSetup.dropna(axis=1, how='all', inplace=True)"
   ]
  },
  {
   "cell_type": "code",
   "execution_count": null,
   "id": "101354b5",
   "metadata": {
    "ExecuteTime": {
     "end_time": "2023-11-13T19:47:26.375373Z",
     "start_time": "2023-11-13T19:47:26.375373Z"
    }
   },
   "outputs": [],
   "source": [
    "df_Projects_ProjectSetup.isna().sum()"
   ]
  },
  {
   "cell_type": "code",
   "execution_count": null,
   "id": "7834d51e",
   "metadata": {
    "ExecuteTime": {
     "end_time": "2023-11-13T19:47:26.375373Z",
     "start_time": "2023-11-13T19:47:26.375373Z"
    }
   },
   "outputs": [],
   "source": [
    "df_Projects_ProjectSetup.shape"
   ]
  },
  {
   "cell_type": "markdown",
   "id": "b7425357",
   "metadata": {},
   "source": [
    "### WIP files [RESUME HERE]"
   ]
  },
  {
   "cell_type": "code",
   "execution_count": 57,
   "id": "815a2377",
   "metadata": {
    "ExecuteTime": {
     "end_time": "2023-11-13T20:17:00.374384Z",
     "start_time": "2023-11-13T20:16:59.352486Z"
    }
   },
   "outputs": [],
   "source": [
    "## not to be confused with \"working files\"\n",
    "df_AR.to_pickle('Vision_Data/working_data/AR.pkl')\n",
    "df_CL.to_pickle('Vision_Data/working_data/CL.pkl')\n",
    "df_EMProjectAssoc.to_pickle('Vision_Data/working_data/EMProjectAssoc.pkl')\n",
    "df_LD.to_pickle('Vision_Data/working_data/LD.pkl')\n",
    "df_LedgerAP.to_pickle('Vision_Data/working_data/LedgerAP.pkl')\n",
    "df_LedgerEX.to_pickle('Vision_Data/working_data/LedgerEX.pkl')\n",
    "df_LedgerMisc.to_pickle('Vision_Data/working_data/LedgerMisc.pkl')\n",
    "df_Opportunity.to_pickle('Vision_Data/working_data/Opportunity.pkl')\n",
    "df_OpportunityCustomTabFields.to_pickle('Vision_Data/working_data/OpportunityCustomTabFields.pkl')\n",
    "df_PR.to_pickle('Vision_Data/working_data/PR.pkl')"
   ]
  },
  {
   "cell_type": "code",
   "execution_count": null,
   "id": "d4f693e9",
   "metadata": {},
   "outputs": [],
   "source": []
  },
  {
   "cell_type": "markdown",
   "id": "95cc460b",
   "metadata": {},
   "source": [
    "### Pickle (export to .pkl)"
   ]
  },
  {
   "cell_type": "code",
   "execution_count": null,
   "id": "bb30dd76",
   "metadata": {
    "ExecuteTime": {
     "end_time": "2023-11-13T19:47:26.375373Z",
     "start_time": "2023-11-13T19:47:26.375373Z"
    },
    "scrolled": true
   },
   "outputs": [],
   "source": [
    "# This section takes a long time to run, uncomment when needed.\n",
    "for i, df in enumerate(dfs):\n",
    "    working_filename = 'Vision\\\\PKL\\\\' + str(df_names[i]) + '.pkl'\n",
    "    df.to_pickle(working_filename)"
   ]
  },
  {
   "cell_type": "code",
   "execution_count": null,
   "id": "64eedd24",
   "metadata": {
    "ExecuteTime": {
     "end_time": "2023-11-13T19:47:26.375373Z",
     "start_time": "2023-11-13T19:47:26.375373Z"
    }
   },
   "outputs": [],
   "source": [
    "# # # single pickle for minor corrections\n",
    "# # df_CL.to_pickle('Vision_Data/PKL/CL.pkl')\n",
    "# df_LedgerAP.to_pickle('Vision_Data/PKL/LedgerAP.pkl')\n",
    "# df_LedgerEX.to_pickle('Vision_Data/PKL/LedgerEX.pkl')\n",
    "# df_LedgerMisc.to_pickle('Vision_Data/PKL/LedgerMisc.pkl')\n",
    "# df_PR.to_pickle('Vision_Data/PKL/PR.pkl')"
   ]
  },
  {
   "cell_type": "code",
   "execution_count": null,
   "id": "8886f5fa",
   "metadata": {},
   "outputs": [],
   "source": []
  },
  {
   "cell_type": "markdown",
   "id": "e780bddb",
   "metadata": {},
   "source": [
    "### Re-Import from pickles\n",
    "The below will read in all .pkl files in the directory as dataframes with a name equal to 'df_' + the filename."
   ]
  },
  {
   "cell_type": "code",
   "execution_count": null,
   "id": "a01284e1",
   "metadata": {
    "ExecuteTime": {
     "end_time": "2023-11-13T19:47:26.375373Z",
     "start_time": "2023-11-13T19:47:26.375373Z"
    }
   },
   "outputs": [],
   "source": [
    "# Get a list of all files in the folder\n",
    "all_files = os.listdir('Vision/PKL/')\n",
    "# Filter the list to include only CSV files\n",
    "pkl_files = [file for file in all_files if file.endswith('.pkl')]\n",
    "# make a list of full paths\n",
    "file_path_list = ['Vision/PKL/' + file for file in pkl_files]\n",
    "\n",
    "# pretty sure this wasn't serving any purpose\n",
    "\n",
    "# # Extract the filenames and full paths\n",
    "# full_paths = [os.path.abspath(os.path.join('Vision/', file)) for file in pkl_files]\n",
    "names = [name.strip('.pkl') for name in pkl_files]\n",
    "\n",
    "# Pair names with file paths using zip\n",
    "dflist = list(zip(names, file_path_list))\n",
    "\n",
    "# Create dataframes from all with matching names\n",
    "for name, df in dflist:\n",
    "    exec(f\"df_{name} = pd.read_pickle(df)\")"
   ]
  },
  {
   "cell_type": "code",
   "execution_count": null,
   "id": "5ba6bed0",
   "metadata": {
    "ExecuteTime": {
     "end_time": "2023-11-13T19:47:26.375373Z",
     "start_time": "2023-11-13T19:47:26.375373Z"
    }
   },
   "outputs": [],
   "source": [
    "# # single import for minor corrections\n",
    "# df_CL = pd.read_pickle('Vision/PKL/CL.pkl')"
   ]
  },
  {
   "cell_type": "markdown",
   "id": "648057fb",
   "metadata": {},
   "source": [
    "### Basic EDA"
   ]
  },
  {
   "cell_type": "code",
   "execution_count": null,
   "id": "b03e761b",
   "metadata": {
    "ExecuteTime": {
     "end_time": "2023-11-13T19:47:26.391895Z",
     "start_time": "2023-11-13T19:47:26.391051Z"
    },
    "scrolled": true
   },
   "outputs": [],
   "source": [
    "start_date = pd.to_datetime('2001-01-01')\n",
    "end_date = pd.to_datetime('2023-11-01')\n",
    "plot_range = df_AR['InvoiceDate'][(df_AR['InvoiceDate'] > start_date) & (df_AR['InvoiceDate'] < end_date)]\n",
    "num_bins = pd.date_range(start=start_date, end=end_date, freq='M')\n",
    "\n",
    "# Create a histogram\n",
    "plt.figure(figsize=(96, 10))\n",
    "plt.hist(plot_range , bins=num_bins, color='blue', edgecolor='black', align='right')\n",
    "\n",
    "# Set labels and title\n",
    "plt.xlabel('Invoice Date')\n",
    "plt.ylabel('# Invoices (monthly)')\n",
    "plt.title('Distribution of Invoice Dates')\n",
    "\n",
    "# Set x-axis ticks to number of bins & y-ticks to steps of ten for the range of the data\n",
    "plt.xticks(num_bins, rotation=45, ha='left')\n",
    "plt.yticks(np.arange(0, 381, step=10))\n",
    "# Format x-axis as dates\n",
    "plt.gcf().autofmt_xdate()\n",
    "# Set x-axis limits to desired range\n",
    "plt.xlim(start_date, end_date)\n",
    "\n",
    "# Add horizontal grid lines\n",
    "plt.grid(axis='y', linestyle='-', alpha=0.7)\n",
    "\n",
    "# Show the plot\n",
    "plt.show()"
   ]
  },
  {
   "cell_type": "markdown",
   "id": "3b2a0679",
   "metadata": {},
   "source": [
    "#### Chart: All Invoices, by Date\n",
    "- Potentially useful to establish periodicity\n",
    "- Want to refine to income by month\n",
    "- Want to compare to # proposals perhaps\n",
    "\n",
    "Problems with the above: doesn't seem to be aligning bins correctly with dates, may not be binning by month as intended, xticks should be appearing at the end of each month bin, start and end are blank for some reason"
   ]
  },
  {
   "cell_type": "code",
   "execution_count": null,
   "id": "e93ed369",
   "metadata": {
    "ExecuteTime": {
     "end_time": "2023-11-13T19:47:26.391895Z",
     "start_time": "2023-11-13T19:47:26.391895Z"
    }
   },
   "outputs": [],
   "source": [
    "# establishing overall range\n",
    "plot_range.sort_values()"
   ]
  },
  {
   "cell_type": "code",
   "execution_count": null,
   "id": "93f61aed",
   "metadata": {
    "ExecuteTime": {
     "end_time": "2023-11-13T19:47:26.391895Z",
     "start_time": "2023-11-13T19:47:26.391895Z"
    }
   },
   "outputs": [],
   "source": [
    "df_AR['InvoiceDate'].max()"
   ]
  },
  {
   "cell_type": "code",
   "execution_count": null,
   "id": "6df4d1d2",
   "metadata": {
    "ExecuteTime": {
     "end_time": "2023-11-13T19:47:26.391895Z",
     "start_time": "2023-11-13T19:47:26.391895Z"
    }
   },
   "outputs": [],
   "source": [
    "df_LD.head()"
   ]
  },
  {
   "cell_type": "code",
   "execution_count": null,
   "id": "1971431f",
   "metadata": {
    "ExecuteTime": {
     "end_time": "2023-11-13T19:47:26.391895Z",
     "start_time": "2023-11-13T19:47:26.391895Z"
    }
   },
   "outputs": [],
   "source": [
    "# make pd.series of all P## project codes, R## project codes, and OHD codes\n",
    "\n",
    "ohd_codes = df_LD[df_LD['WBS1'].str.startswith('OHD')]['WBS1'].value_counts()\n",
    "# 372095 OHD codes\n",
    "r_codes = df_LD[df_LD['WBS1'].str.startswith('R')]['WBS1'].value_counts()\n",
    "# 696996 R codes\n",
    "p_codes = df_LD[df_LD['WBS1'].str.startswith('P')]['WBS1'].value_counts()\n",
    "# 272768 P codes"
   ]
  },
  {
   "cell_type": "code",
   "execution_count": null,
   "id": "a0b2d2ef",
   "metadata": {
    "ExecuteTime": {
     "end_time": "2023-11-13T19:47:26.391895Z",
     "start_time": "2023-11-13T19:47:26.391895Z"
    }
   },
   "outputs": [],
   "source": [
    "r_codes"
   ]
  },
  {
   "cell_type": "code",
   "execution_count": null,
   "id": "67f1137c",
   "metadata": {
    "ExecuteTime": {
     "end_time": "2023-11-13T19:47:26.391895Z",
     "start_time": "2023-11-13T19:47:26.391895Z"
    }
   },
   "outputs": [],
   "source": [
    "# since NPS is a major client we'll use those for the test example\n",
    "NPS_projects = df_PR[df_PR['ClientID'].isin([\"NPS\"])]"
   ]
  },
  {
   "cell_type": "code",
   "execution_count": null,
   "id": "2916869e",
   "metadata": {
    "ExecuteTime": {
     "end_time": "2023-11-13T19:47:26.391895Z",
     "start_time": "2023-11-13T19:47:26.391895Z"
    }
   },
   "outputs": [],
   "source": [
    "# this function (WIP, PROP version still needs fixing) totals labor hours by client\n",
    "# it matches all WBS1 codes associated with the ClientID in the PR table\n",
    "# then finds all entries in LD associated with that WBS1\n",
    "# it can also take parameters to only find hours marked \"N\" for NonBill,\n",
    "# and (will) match only WBS2 = PROP hours \n",
    "# (I think this last needs to do some more cross-table magic to work properly)\n",
    "def get_totals(filter_value, df_PR, df_LD, mode='default'):\n",
    "    # Filter rows where 'ClientID' matches the filter value\n",
    "    filtered_df = df_PR[df_PR['ClientID'].isin([filter_value])]\n",
    "\n",
    "    # Get unique values from the 'WBS1' column in the filtered DataFrame\n",
    "    unique_values = filtered_df['WBS1'].unique()\n",
    "\n",
    "    # Convert the unique values to a list\n",
    "    unique_values_list = list(unique_values)\n",
    "\n",
    "    # Initialize dictionaries to store totals\n",
    "    reg_hours_totals = {}\n",
    "    ovt_hours_totals = {}\n",
    "\n",
    "    # Apply additional filters based on mode\n",
    "    if mode == 'proposal':\n",
    "        df_LD_filtered = df_LD[df_LD['WBS2'].str.startswith('PROP')]\n",
    "    elif mode == 'billable':\n",
    "        df_LD_filtered = df_LD[df_LD['NonBill'].isin([None, 'N'])]\n",
    "    else:\n",
    "        df_LD_filtered = df_LD\n",
    "\n",
    "    # Initialize a list to store the result strings\n",
    "    result_strings = []\n",
    "\n",
    "    # Iterate over unique values and calculate totals\n",
    "    for wbs1_code in unique_values_list:\n",
    "        relevant_rows = df_LD_filtered[df_LD_filtered['WBS1'] == wbs1_code]\n",
    "        reg_hours_total = relevant_rows['RegHrs'].sum()\n",
    "        ovt_hours_total = relevant_rows['OvtHrs'].sum()\n",
    "        result_string = f\"WBS1 Code: {wbs1_code}, Regular Hours: {reg_hours_total}, Overtime Hours: {ovt_hours_total}\"\n",
    "        result_strings.append(result_string)\n",
    "\n",
    "    return result_strings"
   ]
  },
  {
   "cell_type": "code",
   "execution_count": null,
   "id": "aa9666f1",
   "metadata": {
    "ExecuteTime": {
     "end_time": "2023-11-13T19:47:26.391895Z",
     "start_time": "2023-11-13T19:47:26.391895Z"
    },
    "scrolled": true
   },
   "outputs": [],
   "source": [
    "# Example usage\n",
    "result_strings = get_totals('NPS', df_PR, df_LD, mode='billable')\n",
    "for result_string in result_strings:\n",
    "    print(result_string)"
   ]
  },
  {
   "cell_type": "code",
   "execution_count": null,
   "id": "67c5f00c",
   "metadata": {
    "ExecuteTime": {
     "end_time": "2023-11-13T19:47:26.391895Z",
     "start_time": "2023-11-13T19:47:26.391895Z"
    }
   },
   "outputs": [],
   "source": [
    "#  SAMPLE CODE - make sure none are repeated in a list\n",
    "# TEMP_clientIDcounts = df_CL['ClientID'].value_counts()\n",
    "# TEMP_clientIDcounts[TEMP_clientIDcounts > 1]"
   ]
  },
  {
   "cell_type": "code",
   "execution_count": null,
   "id": "444e8c51",
   "metadata": {},
   "outputs": [],
   "source": []
  },
  {
   "cell_type": "code",
   "execution_count": null,
   "id": "28704518",
   "metadata": {},
   "outputs": [],
   "source": []
  }
 ],
 "metadata": {
  "hide_input": false,
  "kernelspec": {
   "display_name": "Python 3 (ipykernel)",
   "language": "python",
   "name": "python3"
  },
  "language_info": {
   "codemirror_mode": {
    "name": "ipython",
    "version": 3
   },
   "file_extension": ".py",
   "mimetype": "text/x-python",
   "name": "python",
   "nbconvert_exporter": "python",
   "pygments_lexer": "ipython3",
   "version": "3.10.7"
  },
  "toc": {
   "base_numbering": 1,
   "nav_menu": {},
   "number_sections": true,
   "sideBar": true,
   "skip_h1_title": false,
   "title_cell": "Table of Contents",
   "title_sidebar": "Contents",
   "toc_cell": false,
   "toc_position": {},
   "toc_section_display": true,
   "toc_window_display": false
  }
 },
 "nbformat": 4,
 "nbformat_minor": 5
}

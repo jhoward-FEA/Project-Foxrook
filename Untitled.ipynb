{
 "cells": [
  {
   "cell_type": "code",
   "execution_count": 1,
   "id": "2dcf570a",
   "metadata": {
    "ExecuteTime": {
     "end_time": "2023-12-18T17:54:55.411942Z",
     "start_time": "2023-12-18T17:54:54.313636Z"
    },
    "run_control": {
     "marked": true
    }
   },
   "outputs": [],
   "source": [
    "import pandas as pd, numpy as np, matplotlib.pyplot as plt"
   ]
  },
  {
   "cell_type": "code",
   "execution_count": null,
   "id": "88f924a1",
   "metadata": {
    "run_control": {
     "marked": true
    }
   },
   "outputs": [],
   "source": []
  },
  {
   "cell_type": "code",
   "execution_count": null,
   "id": "a7175a6c",
   "metadata": {
    "run_control": {
     "marked": true
    }
   },
   "outputs": [],
   "source": []
  },
  {
   "cell_type": "code",
   "execution_count": null,
   "id": "49778400",
   "metadata": {
    "run_control": {
     "marked": true
    }
   },
   "outputs": [],
   "source": []
  },
  {
   "cell_type": "code",
   "execution_count": null,
   "id": "00a04036",
   "metadata": {
    "run_control": {
     "marked": true
    }
   },
   "outputs": [],
   "source": []
  },
  {
   "cell_type": "markdown",
   "id": "d4a5ad9a",
   "metadata": {},
   "source": [
    "Below: checking addresses of certain clients/projects to determine whether they were same client or no"
   ]
  },
  {
   "cell_type": "code",
   "execution_count": 5,
   "id": "a4a97826",
   "metadata": {
    "ExecuteTime": {
     "end_time": "2023-12-18T17:59:15.921909Z",
     "start_time": "2023-12-18T17:56:21.524550Z"
    },
    "run_control": {
     "marked": true
    }
   },
   "outputs": [],
   "source": [
    "df = pd.read_excel('Vision_Data/Vision Data Master Copy.xlsx', sheet_name=\"PR\")"
   ]
  },
  {
   "cell_type": "code",
   "execution_count": null,
   "id": "9d497357",
   "metadata": {
    "run_control": {
     "marked": true
    }
   },
   "outputs": [],
   "source": []
  },
  {
   "cell_type": "code",
   "execution_count": null,
   "id": "a8bae080",
   "metadata": {
    "run_control": {
     "marked": true
    }
   },
   "outputs": [],
   "source": []
  },
  {
   "cell_type": "code",
   "execution_count": null,
   "id": "399d759d",
   "metadata": {
    "run_control": {
     "marked": true
    }
   },
   "outputs": [],
   "source": []
  },
  {
   "cell_type": "code",
   "execution_count": 20,
   "id": "1a8af38c",
   "metadata": {
    "ExecuteTime": {
     "end_time": "2023-12-18T18:05:00.311432Z",
     "start_time": "2023-12-18T18:05:00.296915Z"
    },
    "run_control": {
     "marked": true
    }
   },
   "outputs": [
    {
     "data": {
      "text/plain": [
       "Index(['DefaultTaskType', 'VersionID', 'ContactID', 'CLBillingAddr',\n",
       "       'LongName', 'Address1', 'Address2', 'Address3', 'City', 'State'],\n",
       "      dtype='object')"
      ]
     },
     "execution_count": 20,
     "metadata": {},
     "output_type": "execute_result"
    }
   ],
   "source": [
    "df.columns[40:50]"
   ]
  },
  {
   "cell_type": "code",
   "execution_count": 33,
   "id": "b6440800",
   "metadata": {
    "ExecuteTime": {
     "end_time": "2023-12-18T18:07:30.639067Z",
     "start_time": "2023-12-18T18:07:30.559880Z"
    },
    "run_control": {
     "marked": true
    }
   },
   "outputs": [
    {
     "data": {
      "text/plain": [
       "56549    MD\n",
       "56550    MD\n",
       "56551    MD\n",
       "56552    MD\n",
       "59937    MD\n",
       "62154    MD\n",
       "62155    MD\n",
       "65020    MD\n",
       "68905    MD\n",
       "68906    MD\n",
       "72517    MD\n",
       "Name: State, dtype: object"
      ]
     },
     "execution_count": 33,
     "metadata": {},
     "output_type": "execute_result"
    }
   ],
   "source": [
    "# df['Address1'][df['ClientID'].str.contains('EPARRENT1178828594744', na=False)]\n",
    "# df['Address1'][df['ClientID'].str.contains('830F1297FCE644CCA2088FB79F07BD25', na=False)]\n",
    "# df['Address2'][df['ClientID'].str.contains('EPARRENT1178828594744', na=False)]\n",
    "# df['Address2'][df['ClientID'].str.contains('830F1297FCE644CCA2088FB79F07BD25', na=False)]\n",
    "# df['Address3'][df['ClientID'].str.contains('EPARRENT1178828594744', na=False)]\n",
    "# df['Address3'][df['ClientID'].str.contains('830F1297FCE644CCA2088FB79F07BD25', na=False)]\n",
    "# df['City'][df['ClientID'].str.contains('EPARRENT1178828594744', na=False)]\n",
    "# df['City'][df['ClientID'].str.contains('830F1297FCE644CCA2088FB79F07BD25', na=False)]\n",
    "# df['State'][df['ClientID'].str.contains('EPARRENT1178828594744', na=False)]\n",
    "# df['State'][df['ClientID'].str.contains('830F1297FCE644CCA2088FB79F07BD25', na=False)]"
   ]
  },
  {
   "cell_type": "code",
   "execution_count": null,
   "id": "24a62966",
   "metadata": {
    "run_control": {
     "marked": true
    }
   },
   "outputs": [],
   "source": []
  },
  {
   "cell_type": "code",
   "execution_count": null,
   "id": "0359a211",
   "metadata": {
    "run_control": {
     "marked": true
    }
   },
   "outputs": [],
   "source": []
  },
  {
   "cell_type": "code",
   "execution_count": 13,
   "id": "cfbc6b28",
   "metadata": {
    "ExecuteTime": {
     "end_time": "2023-12-18T16:59:24.267242Z",
     "start_time": "2023-12-18T16:59:23.997321Z"
    },
    "run_control": {
     "marked": true
    }
   },
   "outputs": [
    {
     "name": "stderr",
     "output_type": "stream",
     "text": [
      "C:\\Users\\jhoward\\AppData\\Local\\Temp\\ipykernel_6660\\2876875005.py:1: DtypeWarning: Columns (12) have mixed types. Specify dtype option on import or set low_memory=False.\n",
      "  df1 = pd.read_csv('Vision_Data/SQL/Vision Contacts.csv')\n"
     ]
    }
   ],
   "source": [
    "df1 = pd.read_csv('Vision_Data/SQL/Vision Contacts.csv')"
   ]
  },
  {
   "cell_type": "code",
   "execution_count": 14,
   "id": "8ee08529",
   "metadata": {
    "ExecuteTime": {
     "end_time": "2023-12-18T16:59:24.283060Z",
     "start_time": "2023-12-18T16:59:24.270724Z"
    },
    "run_control": {
     "marked": true
    }
   },
   "outputs": [
    {
     "data": {
      "text/plain": [
       "Index(['ContactID', 'ClientID', 'CLAddress', 'Vendor', 'VEAddress', 'Type',\n",
       "       'LastName', 'FirstName', 'MiddleName', 'Salutation', 'Suffix', 'Title',\n",
       "       'Addressee', 'Address1', 'Address2', 'Address3', 'Address4', 'City',\n",
       "       'State', 'ZIP', 'Country', 'Phone', 'Fax', 'Pager', 'CellPhone',\n",
       "       'HomePhone', 'EMail', 'MailingAddress', 'Billing', 'PrimaryInd',\n",
       "       'ContactStatus', 'PreferredName', 'CustomCurrencyCode', 'Source',\n",
       "       'CreateUser', 'CreateDate', 'ModUser', 'ModDate', 'PhoneFormat',\n",
       "       'FaxFormat', 'PagerFormat', 'CellPhoneFormat', 'HomePhoneFormat',\n",
       "       'AjeraSync', 'TLInternalKey', 'TLSyncModDate'],\n",
       "      dtype='object')"
      ]
     },
     "execution_count": 14,
     "metadata": {},
     "output_type": "execute_result"
    }
   ],
   "source": [
    "df1.columns"
   ]
  },
  {
   "cell_type": "code",
   "execution_count": 15,
   "id": "3911ea84",
   "metadata": {
    "ExecuteTime": {
     "end_time": "2023-12-18T16:59:24.346746Z",
     "start_time": "2023-12-18T16:59:24.315443Z"
    },
    "run_control": {
     "marked": true
    }
   },
   "outputs": [],
   "source": [
    "df1 = df[df['Vendor'].isna()]"
   ]
  },
  {
   "cell_type": "code",
   "execution_count": 16,
   "id": "2f09fa8f",
   "metadata": {
    "ExecuteTime": {
     "end_time": "2023-12-18T16:59:24.599226Z",
     "start_time": "2023-12-18T16:59:24.583619Z"
    },
    "run_control": {
     "marked": true
    }
   },
   "outputs": [
    {
     "data": {
      "text/plain": [
       "(25392, 46)"
      ]
     },
     "execution_count": 16,
     "metadata": {},
     "output_type": "execute_result"
    }
   ],
   "source": [
    "df1.shape"
   ]
  },
  {
   "cell_type": "code",
   "execution_count": 17,
   "id": "bfb14c8a",
   "metadata": {
    "ExecuteTime": {
     "end_time": "2023-12-18T16:59:24.963472Z",
     "start_time": "2023-12-18T16:59:24.947722Z"
    },
    "run_control": {
     "marked": true
    }
   },
   "outputs": [
    {
     "data": {
      "text/plain": [
       "5739"
      ]
     },
     "execution_count": 17,
     "metadata": {},
     "output_type": "execute_result"
    }
   ],
   "source": [
    "len(df1['ClientID'].unique())"
   ]
  },
  {
   "cell_type": "code",
   "execution_count": 18,
   "id": "bc10b399",
   "metadata": {
    "ExecuteTime": {
     "end_time": "2023-12-18T16:59:25.551290Z",
     "start_time": "2023-12-18T16:59:25.326836Z"
    },
    "run_control": {
     "marked": true
    }
   },
   "outputs": [
    {
     "ename": "NameError",
     "evalue": "name 'df2' is not defined",
     "output_type": "error",
     "traceback": [
      "\u001b[1;31m---------------------------------------------------------------------------\u001b[0m",
      "\u001b[1;31mNameError\u001b[0m                                 Traceback (most recent call last)",
      "Cell \u001b[1;32mIn[18], line 1\u001b[0m\n\u001b[1;32m----> 1\u001b[0m \u001b[43mdf2\u001b[49m\n",
      "\u001b[1;31mNameError\u001b[0m: name 'df2' is not defined"
     ]
    }
   ],
   "source": [
    "df2"
   ]
  },
  {
   "cell_type": "code",
   "execution_count": null,
   "id": "f22c0e34",
   "metadata": {
    "run_control": {
     "marked": true
    }
   },
   "outputs": [],
   "source": []
  }
 ],
 "metadata": {
  "hide_input": false,
  "kernelspec": {
   "display_name": "Python 3 (ipykernel)",
   "language": "python",
   "name": "python3"
  },
  "language_info": {
   "codemirror_mode": {
    "name": "ipython",
    "version": 3
   },
   "file_extension": ".py",
   "mimetype": "text/x-python",
   "name": "python",
   "nbconvert_exporter": "python",
   "pygments_lexer": "ipython3",
   "version": "3.10.7"
  },
  "toc": {
   "base_numbering": 1,
   "nav_menu": {},
   "number_sections": true,
   "sideBar": true,
   "skip_h1_title": false,
   "title_cell": "Table of Contents",
   "title_sidebar": "Contents",
   "toc_cell": false,
   "toc_position": {},
   "toc_section_display": true,
   "toc_window_display": true
  }
 },
 "nbformat": 4,
 "nbformat_minor": 5
}

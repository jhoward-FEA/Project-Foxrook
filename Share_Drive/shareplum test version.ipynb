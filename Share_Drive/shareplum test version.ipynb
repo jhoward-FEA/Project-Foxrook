{
 "cells": [
  {
   "cell_type": "code",
   "execution_count": 20,
   "id": "86ae8018",
   "metadata": {
    "ExecuteTime": {
     "end_time": "2023-02-23T18:56:39.594717Z",
     "start_time": "2023-02-23T18:56:39.578483Z"
    }
   },
   "outputs": [],
   "source": [
    "# !pip install shareplum\n",
    "# !pip install sharepy\n",
    "# !pip install Office365-REST-Python-Client\n",
    "from office365.runtime.auth.client_credential import ClientCredential\n",
    "from office365.runtime.client_request_exception import ClientRequestException\n",
    "from office365.sharepoint.client_context import ClientContext\n",
    "from office365.sharepoint.files.file import File\n",
    "\n",
    "from shareplum import Site\n",
    "from shareplum import Office365\n",
    "from shareplum.site import Version\n",
    "import csv"
   ]
  },
  {
   "cell_type": "code",
   "execution_count": 21,
   "id": "e812a2b1",
   "metadata": {
    "ExecuteTime": {
     "end_time": "2023-02-23T18:56:39.721775Z",
     "start_time": "2023-02-23T18:56:39.713874Z"
    }
   },
   "outputs": [],
   "source": [
    "import pandas as pd, numpy as np, matplotlib as plt\n",
    "import re, os, time, datetime, io"
   ]
  },
  {
   "cell_type": "code",
   "execution_count": 22,
   "id": "382e9072",
   "metadata": {
    "ExecuteTime": {
     "end_time": "2023-02-23T18:56:40.590430Z",
     "start_time": "2023-02-23T18:56:40.579217Z"
    }
   },
   "outputs": [],
   "source": [
    "# initialize pandas dataframe 'proj_filenames' for the data\n",
    "\n",
    "proj_filenames = pd.DataFrame(columns=[\"name\", \"ext\", \"project\", \"code\", \"year\", \"month\", \"type\"])"
   ]
  },
  {
   "cell_type": "code",
   "execution_count": 23,
   "id": "fb83f460",
   "metadata": {
    "ExecuteTime": {
     "end_time": "2023-02-23T18:56:44.357629Z",
     "start_time": "2023-02-23T18:56:41.599902Z"
    }
   },
   "outputs": [],
   "source": [
    "authcookie = Office365('https://feapc.sharepoint.com/', username='jhoward@feapc.com', password='FEAJustHow!333').GetCookies()\n",
    "site = Site('https://feapc.sharepoint.com/', version=Version.v2016, authcookie=authcookie)"
   ]
  },
  {
   "cell_type": "code",
   "execution_count": 5,
   "id": "5b07756f",
   "metadata": {
    "ExecuteTime": {
     "end_time": "2023-02-23T16:35:07.181270Z",
     "start_time": "2023-02-23T16:35:06.289054Z"
    }
   },
   "outputs": [],
   "source": [
    "# get the initial (root level) list of folder contents\n",
    "active_dir = 'FEA Projects'\n",
    "folderlist = site.list(active_dir).GetListItems(fields=['URL Path'])"
   ]
  },
  {
   "cell_type": "code",
   "execution_count": 6,
   "id": "a0a40e21",
   "metadata": {
    "ExecuteTime": {
     "end_time": "2023-02-23T16:35:07.212711Z",
     "start_time": "2023-02-23T16:35:07.186047Z"
    }
   },
   "outputs": [],
   "source": [
    "# Function to clean the folderlist URL Path into a string equalling the actual folder name\n",
    "def stripjunk(folderlist):\n",
    "    \n",
    "    # turn the list of dictionaries into a list of strings\n",
    "    for n in range(0,len(folderlist)):\n",
    "        folderlist[n] = str(folderlist[n].values())\n",
    "    \n",
    "    # strip out the initial junk characters\n",
    "    for n in range(0,len(folderlist)):\n",
    "        folderlist[n] = folderlist[n].strip(\"dict_values([\\'\")\n",
    "\n",
    "    # strip out the end junk characters\n",
    "    for n in range(0,len(folderlist)):\n",
    "        folderlist[n] = folderlist[n].strip('\\'])')\n",
    "\n",
    "    # strip leading numeric chars with regex\n",
    "    for n in range(0, len(folderlist)):\n",
    "        while folderlist[n][0].isdigit():\n",
    "            folderlist[n] = folderlist[n][1::]\n",
    "\n",
    "    # strip leading numeric chars with regex\n",
    "    for n in range(0, len(folderlist)):\n",
    "        folderlist[n] = folderlist[n].strip(';#FEA Projects/')"
   ]
  },
  {
   "cell_type": "code",
   "execution_count": 7,
   "id": "41b17a35",
   "metadata": {
    "ExecuteTime": {
     "end_time": "2023-02-23T16:35:07.244359Z",
     "start_time": "2023-02-23T16:35:07.222556Z"
    }
   },
   "outputs": [],
   "source": [
    "# apply function to list\n",
    "stripjunk(folderlist)"
   ]
  },
  {
   "cell_type": "code",
   "execution_count": 8,
   "id": "9566b659",
   "metadata": {
    "ExecuteTime": {
     "end_time": "2023-02-23T16:35:07.259983Z",
     "start_time": "2023-02-23T16:35:07.246269Z"
    }
   },
   "outputs": [],
   "source": [
    "# quick cleanup of the list.\n",
    "folderlist.remove('NPS FY19 PS')\n",
    "folderlist.sort()"
   ]
  },
  {
   "cell_type": "code",
   "execution_count": 9,
   "id": "bdcdc46a",
   "metadata": {
    "ExecuteTime": {
     "end_time": "2023-02-23T16:35:07.275745Z",
     "start_time": "2023-02-23T16:35:07.261905Z"
    }
   },
   "outputs": [],
   "source": [
    "# initialize dataframes for new folders to be added\n",
    "# initial entries for the root level folders\n",
    "new_folders = pd.DataFrame({'name': folderlist, 'ext': \"n/a\", 'project': 'n/a', 'code': \"n/a\",\\\n",
    "                            'year': folderlist, 'month': \"n/a\", 'type': 'folder', 'path': '/'})\n",
    "\n",
    "# join initial folder list into the main dataframe\n",
    "proj_filenames = pd.concat([proj_filenames, new_folders], axis=0, join='outer')"
   ]
  },
  {
   "cell_type": "code",
   "execution_count": 10,
   "id": "825930ff",
   "metadata": {
    "ExecuteTime": {
     "end_time": "2023-02-23T16:35:07.291454Z",
     "start_time": "2023-02-23T16:35:07.278240Z"
    },
    "scrolled": false
   },
   "outputs": [],
   "source": [
    "def add_files(folderlist):\n",
    "    filenames, exts, projects, codes, years, months, types, paths = ([] for i in range(8))\n",
    "\n",
    "    for x in range(0, len(folderlist)):\n",
    "        folderpath = site.Folder(active_dir + '/' + folderlist[x] + '/')\n",
    "\n",
    "        if len(folderpath.files) > 0:\n",
    "            newfile = folderpath.files[0]['Name']\n",
    "            if newfile[0].isnumeric():\n",
    "                months.append(newfile[x][0:2])\n",
    "                years.append(newfile[x][3:7])\n",
    "                codes.append(newfile[8:14])        \n",
    "                filename = newfile[15::]\n",
    "            else:\n",
    "                months = \"unknown\"\n",
    "                years = \"unknown\"\n",
    "                codes = \"unknown\"\n",
    "                filename = newfile\n",
    "\n",
    "            filename, fileext = filename.split(sep = \".\", maxsplit=1)\n",
    "\n",
    "            if len(fileext) > 5:\n",
    "                print(f'WARNING: The file extension {filext} seems a bit long. Is this correct?')\n",
    "            else:\n",
    "                projects.append(folderlist[x])\n",
    "                filenames.append(filename)\n",
    "                exts.append(fileext)\n",
    "                paths.append(\"/\" + folderlist[x] + \"/\")\n",
    "                types.append(\"file\")\n",
    "        else:\n",
    "            pass\n",
    "\n",
    "        # initialize a dataframe for new files\n",
    "        #new_files = pd.DataFrame(columns=({\"name\": name, \"ext\": ext, \"project\": path, \"code\": code,\\\n",
    "                                 # \"year\": year, \"month\": month, \"type\": \"file\"}))\n",
    "\n",
    "\n",
    "    new_files = pd.DataFrame(\n",
    "        {'name': filenames,\n",
    "         'ext': exts,\n",
    "         'project': projects,\n",
    "         'code': codes,\n",
    "         'year': years,     \n",
    "         'month': months,\n",
    "         'type': types,\n",
    "         'path': paths     \n",
    "        })\n",
    "\n",
    "    return new_files"
   ]
  },
  {
   "cell_type": "code",
   "execution_count": 11,
   "id": "996e02ef",
   "metadata": {
    "ExecuteTime": {
     "end_time": "2023-02-23T16:35:17.014813Z",
     "start_time": "2023-02-23T16:35:07.295456Z"
    }
   },
   "outputs": [],
   "source": [
    "new_files = add_files(folderlist)"
   ]
  },
  {
   "cell_type": "code",
   "execution_count": 12,
   "id": "5b3d8c54",
   "metadata": {
    "ExecuteTime": {
     "end_time": "2023-02-23T16:35:17.046067Z",
     "start_time": "2023-02-23T16:35:17.023563Z"
    }
   },
   "outputs": [],
   "source": [
    "proj_filenames = pd.concat([proj_filenames, new_files], ignore_index=True)"
   ]
  },
  {
   "cell_type": "code",
   "execution_count": 13,
   "id": "5fdde5ec",
   "metadata": {
    "ExecuteTime": {
     "end_time": "2023-02-23T16:35:17.108366Z",
     "start_time": "2023-02-23T16:35:17.053543Z"
    }
   },
   "outputs": [
    {
     "data": {
      "text/html": [
       "<div>\n",
       "<style scoped>\n",
       "    .dataframe tbody tr th:only-of-type {\n",
       "        vertical-align: middle;\n",
       "    }\n",
       "\n",
       "    .dataframe tbody tr th {\n",
       "        vertical-align: top;\n",
       "    }\n",
       "\n",
       "    .dataframe thead th {\n",
       "        text-align: right;\n",
       "    }\n",
       "</style>\n",
       "<table border=\"1\" class=\"dataframe\">\n",
       "  <thead>\n",
       "    <tr style=\"text-align: right;\">\n",
       "      <th></th>\n",
       "      <th>name</th>\n",
       "      <th>ext</th>\n",
       "      <th>project</th>\n",
       "      <th>code</th>\n",
       "      <th>year</th>\n",
       "      <th>month</th>\n",
       "      <th>type</th>\n",
       "      <th>path</th>\n",
       "    </tr>\n",
       "  </thead>\n",
       "  <tbody>\n",
       "    <tr>\n",
       "      <th>0</th>\n",
       "      <td>2006</td>\n",
       "      <td>n/a</td>\n",
       "      <td>n/a</td>\n",
       "      <td>n/a</td>\n",
       "      <td>2006</td>\n",
       "      <td>n/a</td>\n",
       "      <td>folder</td>\n",
       "      <td>/</td>\n",
       "    </tr>\n",
       "    <tr>\n",
       "      <th>1</th>\n",
       "      <td>2007</td>\n",
       "      <td>n/a</td>\n",
       "      <td>n/a</td>\n",
       "      <td>n/a</td>\n",
       "      <td>2007</td>\n",
       "      <td>n/a</td>\n",
       "      <td>folder</td>\n",
       "      <td>/</td>\n",
       "    </tr>\n",
       "    <tr>\n",
       "      <th>2</th>\n",
       "      <td>2008</td>\n",
       "      <td>n/a</td>\n",
       "      <td>n/a</td>\n",
       "      <td>n/a</td>\n",
       "      <td>2008</td>\n",
       "      <td>n/a</td>\n",
       "      <td>folder</td>\n",
       "      <td>/</td>\n",
       "    </tr>\n",
       "    <tr>\n",
       "      <th>3</th>\n",
       "      <td>2009</td>\n",
       "      <td>n/a</td>\n",
       "      <td>n/a</td>\n",
       "      <td>n/a</td>\n",
       "      <td>2009</td>\n",
       "      <td>n/a</td>\n",
       "      <td>folder</td>\n",
       "      <td>/</td>\n",
       "    </tr>\n",
       "    <tr>\n",
       "      <th>4</th>\n",
       "      <td>2010</td>\n",
       "      <td>n/a</td>\n",
       "      <td>n/a</td>\n",
       "      <td>n/a</td>\n",
       "      <td>2010</td>\n",
       "      <td>n/a</td>\n",
       "      <td>folder</td>\n",
       "      <td>/</td>\n",
       "    </tr>\n",
       "    <tr>\n",
       "      <th>5</th>\n",
       "      <td>2011</td>\n",
       "      <td>n/a</td>\n",
       "      <td>n/a</td>\n",
       "      <td>n/a</td>\n",
       "      <td>2011</td>\n",
       "      <td>n/a</td>\n",
       "      <td>folder</td>\n",
       "      <td>/</td>\n",
       "    </tr>\n",
       "    <tr>\n",
       "      <th>6</th>\n",
       "      <td>2012</td>\n",
       "      <td>n/a</td>\n",
       "      <td>n/a</td>\n",
       "      <td>n/a</td>\n",
       "      <td>2012</td>\n",
       "      <td>n/a</td>\n",
       "      <td>folder</td>\n",
       "      <td>/</td>\n",
       "    </tr>\n",
       "    <tr>\n",
       "      <th>7</th>\n",
       "      <td>2013</td>\n",
       "      <td>n/a</td>\n",
       "      <td>n/a</td>\n",
       "      <td>n/a</td>\n",
       "      <td>2013</td>\n",
       "      <td>n/a</td>\n",
       "      <td>folder</td>\n",
       "      <td>/</td>\n",
       "    </tr>\n",
       "    <tr>\n",
       "      <th>8</th>\n",
       "      <td>2014</td>\n",
       "      <td>n/a</td>\n",
       "      <td>n/a</td>\n",
       "      <td>n/a</td>\n",
       "      <td>2014</td>\n",
       "      <td>n/a</td>\n",
       "      <td>folder</td>\n",
       "      <td>/</td>\n",
       "    </tr>\n",
       "    <tr>\n",
       "      <th>9</th>\n",
       "      <td>2015</td>\n",
       "      <td>n/a</td>\n",
       "      <td>n/a</td>\n",
       "      <td>n/a</td>\n",
       "      <td>2015</td>\n",
       "      <td>n/a</td>\n",
       "      <td>folder</td>\n",
       "      <td>/</td>\n",
       "    </tr>\n",
       "    <tr>\n",
       "      <th>10</th>\n",
       "      <td>2016</td>\n",
       "      <td>n/a</td>\n",
       "      <td>n/a</td>\n",
       "      <td>n/a</td>\n",
       "      <td>2016</td>\n",
       "      <td>n/a</td>\n",
       "      <td>folder</td>\n",
       "      <td>/</td>\n",
       "    </tr>\n",
       "    <tr>\n",
       "      <th>11</th>\n",
       "      <td>2017</td>\n",
       "      <td>n/a</td>\n",
       "      <td>n/a</td>\n",
       "      <td>n/a</td>\n",
       "      <td>2017</td>\n",
       "      <td>n/a</td>\n",
       "      <td>folder</td>\n",
       "      <td>/</td>\n",
       "    </tr>\n",
       "    <tr>\n",
       "      <th>12</th>\n",
       "      <td>2018</td>\n",
       "      <td>n/a</td>\n",
       "      <td>n/a</td>\n",
       "      <td>n/a</td>\n",
       "      <td>2018</td>\n",
       "      <td>n/a</td>\n",
       "      <td>folder</td>\n",
       "      <td>/</td>\n",
       "    </tr>\n",
       "    <tr>\n",
       "      <th>13</th>\n",
       "      <td>2019</td>\n",
       "      <td>n/a</td>\n",
       "      <td>n/a</td>\n",
       "      <td>n/a</td>\n",
       "      <td>2019</td>\n",
       "      <td>n/a</td>\n",
       "      <td>folder</td>\n",
       "      <td>/</td>\n",
       "    </tr>\n",
       "    <tr>\n",
       "      <th>14</th>\n",
       "      <td>2020</td>\n",
       "      <td>n/a</td>\n",
       "      <td>n/a</td>\n",
       "      <td>n/a</td>\n",
       "      <td>2020</td>\n",
       "      <td>n/a</td>\n",
       "      <td>folder</td>\n",
       "      <td>/</td>\n",
       "    </tr>\n",
       "    <tr>\n",
       "      <th>15</th>\n",
       "      <td>2021</td>\n",
       "      <td>n/a</td>\n",
       "      <td>n/a</td>\n",
       "      <td>n/a</td>\n",
       "      <td>2021</td>\n",
       "      <td>n/a</td>\n",
       "      <td>folder</td>\n",
       "      <td>/</td>\n",
       "    </tr>\n",
       "    <tr>\n",
       "      <th>16</th>\n",
       "      <td>2022</td>\n",
       "      <td>n/a</td>\n",
       "      <td>n/a</td>\n",
       "      <td>n/a</td>\n",
       "      <td>2022</td>\n",
       "      <td>n/a</td>\n",
       "      <td>folder</td>\n",
       "      <td>/</td>\n",
       "    </tr>\n",
       "    <tr>\n",
       "      <th>17</th>\n",
       "      <td>2023</td>\n",
       "      <td>n/a</td>\n",
       "      <td>n/a</td>\n",
       "      <td>n/a</td>\n",
       "      <td>2023</td>\n",
       "      <td>n/a</td>\n",
       "      <td>folder</td>\n",
       "      <td>/</td>\n",
       "    </tr>\n",
       "    <tr>\n",
       "      <th>18</th>\n",
       "      <td>(Thoreau Place Roof Consulting Services) - Sho...</td>\n",
       "      <td>lnk</td>\n",
       "      <td>2020</td>\n",
       "      <td>unknown</td>\n",
       "      <td>unknown</td>\n",
       "      <td>unknown</td>\n",
       "      <td>file</td>\n",
       "      <td>/2020/</td>\n",
       "    </tr>\n",
       "    <tr>\n",
       "      <th>19</th>\n",
       "      <td>Huntington Gateway Fee Estimate</td>\n",
       "      <td>xlsx</td>\n",
       "      <td>2022</td>\n",
       "      <td>unknown</td>\n",
       "      <td>unknown</td>\n",
       "      <td>unknown</td>\n",
       "      <td>file</td>\n",
       "      <td>/2022/</td>\n",
       "    </tr>\n",
       "  </tbody>\n",
       "</table>\n",
       "</div>"
      ],
      "text/plain": [
       "                                                 name   ext project     code  \\\n",
       "0                                                2006   n/a     n/a      n/a   \n",
       "1                                                2007   n/a     n/a      n/a   \n",
       "2                                                2008   n/a     n/a      n/a   \n",
       "3                                                2009   n/a     n/a      n/a   \n",
       "4                                                2010   n/a     n/a      n/a   \n",
       "5                                                2011   n/a     n/a      n/a   \n",
       "6                                                2012   n/a     n/a      n/a   \n",
       "7                                                2013   n/a     n/a      n/a   \n",
       "8                                                2014   n/a     n/a      n/a   \n",
       "9                                                2015   n/a     n/a      n/a   \n",
       "10                                               2016   n/a     n/a      n/a   \n",
       "11                                               2017   n/a     n/a      n/a   \n",
       "12                                               2018   n/a     n/a      n/a   \n",
       "13                                               2019   n/a     n/a      n/a   \n",
       "14                                               2020   n/a     n/a      n/a   \n",
       "15                                               2021   n/a     n/a      n/a   \n",
       "16                                               2022   n/a     n/a      n/a   \n",
       "17                                               2023   n/a     n/a      n/a   \n",
       "18  (Thoreau Place Roof Consulting Services) - Sho...   lnk    2020  unknown   \n",
       "19                    Huntington Gateway Fee Estimate  xlsx    2022  unknown   \n",
       "\n",
       "       year    month    type    path  \n",
       "0      2006      n/a  folder       /  \n",
       "1      2007      n/a  folder       /  \n",
       "2      2008      n/a  folder       /  \n",
       "3      2009      n/a  folder       /  \n",
       "4      2010      n/a  folder       /  \n",
       "5      2011      n/a  folder       /  \n",
       "6      2012      n/a  folder       /  \n",
       "7      2013      n/a  folder       /  \n",
       "8      2014      n/a  folder       /  \n",
       "9      2015      n/a  folder       /  \n",
       "10     2016      n/a  folder       /  \n",
       "11     2017      n/a  folder       /  \n",
       "12     2018      n/a  folder       /  \n",
       "13     2019      n/a  folder       /  \n",
       "14     2020      n/a  folder       /  \n",
       "15     2021      n/a  folder       /  \n",
       "16     2022      n/a  folder       /  \n",
       "17     2023      n/a  folder       /  \n",
       "18  unknown  unknown    file  /2020/  \n",
       "19  unknown  unknown    file  /2022/  "
      ]
     },
     "execution_count": 13,
     "metadata": {},
     "output_type": "execute_result"
    }
   ],
   "source": [
    "proj_filenames"
   ]
  },
  {
   "cell_type": "code",
   "execution_count": 14,
   "id": "803e7910",
   "metadata": {
    "ExecuteTime": {
     "end_time": "2023-02-23T16:35:17.123817Z",
     "start_time": "2023-02-23T16:35:17.114351Z"
    }
   },
   "outputs": [],
   "source": [
    "# save the root folders as it's own list.  \n",
    "# the variable will be re-set as we go into deeper subfolders\n",
    "root_folders = folderlist"
   ]
  },
  {
   "cell_type": "code",
   "execution_count": 15,
   "id": "cd46f45f",
   "metadata": {
    "ExecuteTime": {
     "end_time": "2023-02-23T16:35:17.154443Z",
     "start_time": "2023-02-23T16:35:17.131371Z"
    },
    "scrolled": true
   },
   "outputs": [
    {
     "ename": "SyntaxError",
     "evalue": "expected ':' (3453043116.py, line 1)",
     "output_type": "error",
     "traceback": [
      "\u001b[1;36m  Cell \u001b[1;32mIn[15], line 1\u001b[1;36m\u001b[0m\n\u001b[1;33m    def add_folders(folderlist)\u001b[0m\n\u001b[1;37m                               ^\u001b[0m\n\u001b[1;31mSyntaxError\u001b[0m\u001b[1;31m:\u001b[0m expected ':'\n"
     ]
    }
   ],
   "source": [
    "def add_folders(folderlist):\n",
    "    \n",
    "    for i in range(0, len(root_folders)):\n",
    "        curr_year = root_folders[i]\n",
    "        active_dir = \"FEA Projects/\" + curr_year\n",
    "        folderpath = site.Folder(active_dir + '/')\n",
    "        subfolders = folderpath.folders\n",
    "    #    print(f\"{curr_year}: {subfolders}\")\n",
    "        for i in range(0, len(subfolders)):\n",
    "            if len(folderpath.folders) > 0:\n",
    "                foldernames, exts, projects, codes, years, months, types, paths = ([] for i in range(8))\n",
    "                foldername = subfolders[i]\n",
    "\n",
    "                if foldername[0].isnumeric() and foldername[2] == \".\":\n",
    "                    months.append(foldername[0:2])\n",
    "                    years.append(foldername[3:7])\n",
    "                    codes.append(foldername[8:14])\n",
    "                    foldername = foldername[15::]\n",
    "                else:\n",
    "                    months.append(\"unspecified\")\n",
    "                    years.append(curr_year)\n",
    "                    codes.append(\"unknown\")\n",
    "\n",
    "                projects.append(subfolders[i])\n",
    "                foldernames.append(foldername)\n",
    "                exts.append(\"n/a\")\n",
    "                paths.append(active_dir + \"/\")\n",
    "                types.append(\"folder\")\n",
    "\n",
    "                new_folders = pd.DataFrame(\n",
    "                    {'name': foldernames,\n",
    "                     'ext': exts,\n",
    "                     'project': projects,\n",
    "                     'code': codes,\n",
    "                     'year': years,     \n",
    "                     'month': months,\n",
    "                     'type': types,\n",
    "                     'path': paths\n",
    "                    })\n",
    "\n",
    "            else:\n",
    "                pass\n",
    "    \n",
    "    return new_folders"
   ]
  },
  {
   "cell_type": "code",
   "execution_count": null,
   "id": "7257fd09",
   "metadata": {
    "ExecuteTime": {
     "end_time": "2023-02-23T16:35:17.158441Z",
     "start_time": "2023-02-23T16:35:17.158441Z"
    }
   },
   "outputs": [],
   "source": [
    " # join the list of new folders into the dataframe\n",
    "proj_filenames = pd.concat([proj_filenames, new_folders], axis=0, join='outer', ignore_index=True)"
   ]
  },
  {
   "cell_type": "code",
   "execution_count": null,
   "id": "18594f5e",
   "metadata": {
    "ExecuteTime": {
     "end_time": "2023-02-23T16:35:17.161378Z",
     "start_time": "2023-02-23T16:35:17.161378Z"
    }
   },
   "outputs": [],
   "source": [
    "proj_filenames.sample(12)"
   ]
  },
  {
   "cell_type": "code",
   "execution_count": null,
   "id": "0c594d37",
   "metadata": {},
   "outputs": [],
   "source": []
  },
  {
   "cell_type": "code",
   "execution_count": null,
   "id": "c234c0a8",
   "metadata": {},
   "outputs": [],
   "source": []
  },
  {
   "cell_type": "code",
   "execution_count": null,
   "id": "77dd0d9a",
   "metadata": {},
   "outputs": [],
   "source": []
  },
  {
   "cell_type": "code",
   "execution_count": null,
   "id": "27344a03",
   "metadata": {},
   "outputs": [],
   "source": [
    "pathlist = []\n",
    "for x in range(0, len(subfolders)):\n",
    "    folderpath = site.Folder('/' + active_dir + '/' + subfolders[x] + '/')\n",
    "    pathlist.append(folderpath.folder_name)\n",
    "print(pathlist)"
   ]
  },
  {
   "cell_type": "code",
   "execution_count": null,
   "id": "19566680",
   "metadata": {},
   "outputs": [],
   "source": [
    "folderlist = []\n",
    "for x in pathlist:\n",
    "    x = x.strip(active_dir)\n",
    "    folderlist.append(x)\n",
    "print(folderlist)"
   ]
  },
  {
   "cell_type": "code",
   "execution_count": null,
   "id": "5761d620",
   "metadata": {},
   "outputs": [],
   "source": []
  },
  {
   "cell_type": "code",
   "execution_count": null,
   "id": "b654416f",
   "metadata": {
    "ExecuteTime": {
     "end_time": "2023-02-23T00:58:33.532966Z",
     "start_time": "2023-02-23T00:58:33.512630Z"
    }
   },
   "outputs": [],
   "source": [
    "new_folders = pd.DataFrame({'name': folderlist, 'ext': \"n/a\", 'project': folderlist,\\\n",
    "                            'code': \"n/a\", 'year': curr_year, 'month': \"not specified\",\\\n",
    "                            'type': 'folder', 'path': pathlist})\n",
    "\n",
    "# join the list of new folders into the dataframe\n",
    "proj_filenames = pd.concat([proj_filenames, new_folders], axis=0, join='outer')"
   ]
  },
  {
   "cell_type": "code",
   "execution_count": null,
   "id": "c4330eb4",
   "metadata": {
    "ExecuteTime": {
     "end_time": "2023-02-23T00:58:36.117762Z",
     "start_time": "2023-02-23T00:58:36.089545Z"
    }
   },
   "outputs": [],
   "source": [
    "proj_filenames"
   ]
  },
  {
   "cell_type": "code",
   "execution_count": null,
   "id": "b62205f4",
   "metadata": {
    "ExecuteTime": {
     "end_time": "2023-02-23T00:59:23.962566Z",
     "start_time": "2023-02-23T00:59:23.809499Z"
    }
   },
   "outputs": [],
   "source": [
    "# get the list of subfolder contents\n",
    "\n",
    "site.list(folderpath).GetListItems()\n",
    "\n",
    "# filenames, exts, projects, codes, years, months, types, paths = ([] for i in range(8))\n",
    "\n",
    "# for x in range(0, len(folderlist)):\n",
    "#     sub_path = site.Folder(active_dir + '/' + folderlist[x] + '/')\n",
    "#     folderpath = site.Folder(active_dir + '/' + folderlist[x] + '/')\n",
    "#     if len(folderpath.files) > 0:\n",
    "#             newfile = folderpath.files[0]['Name']\n",
    "#             print(newfile)\n",
    "            \n",
    "            \n",
    "            \n",
    "#         if len(folderpath.files) > 0:\n",
    "#             newfile = folderpath.files[0]['Name']\n",
    "#             if newfile[0].isnumeric():\n",
    "#                 months.append(newfile[x][0:2])\n",
    "#                 years.append(newfile[x][3:7])\n",
    "#                 codes.append(newfile[8:14])        \n",
    "#                 filename = newfile[15::]\n",
    "#             else:\n",
    "#                 months = \"unknown\"\n",
    "#                 years = \"unknown\"\n",
    "#                 codes = \"unknown\"\n",
    "#                 filename = newfile"
   ]
  },
  {
   "cell_type": "code",
   "execution_count": null,
   "id": "76cdcad1",
   "metadata": {
    "ExecuteTime": {
     "end_time": "2023-02-23T00:04:45.305606Z",
     "start_time": "2023-02-23T00:04:45.290426Z"
    }
   },
   "outputs": [],
   "source": [
    "active_dir"
   ]
  },
  {
   "cell_type": "code",
   "execution_count": null,
   "id": "f9e6f705",
   "metadata": {},
   "outputs": [],
   "source": []
  },
  {
   "cell_type": "code",
   "execution_count": null,
   "id": "686e80b2",
   "metadata": {},
   "outputs": [],
   "source": [
    "## not actually needed for filenames - but will want to adapt this for folders.\n",
    "\n",
    "# newfile = folder.files[0]['Name']\n",
    "# month = newfile[0:2]\n",
    "# year = newfile[3:7]\n",
    "# code = newfile[8:13]\n",
    "# newfile = newfile[14::]\n",
    "# filename, fileext = newfile.split(sep = \".\", maxsplit=1)\n",
    "# #print(f'{filename}')\n",
    "# # print(f'Month: {month}, Year: {year}, Code: {code}, File: {newfile}')"
   ]
  },
  {
   "cell_type": "code",
   "execution_count": null,
   "id": "473b7025",
   "metadata": {},
   "outputs": [],
   "source": [
    "def add_subfolders(folderpath)\n",
    "\n",
    "folderpath = site.Folder(active_dir + \"/\" + folderlist[0])\n",
    "\n",
    "# split subfolders list into two lists, codes and names\n",
    "codes = []\n",
    "names = []\n",
    "months = []\n",
    "years = []\n",
    "paths = []\n",
    "\n",
    "for n in range(0, len(subfolders)):\n",
    "    codes.append(subfolders[n][8:14])\n",
    "    newnametemp = re.sub(\"-|\\(|\\)\", \"\", subfolders[n][15::])\n",
    "    names.append(newnametemp.strip())\n",
    "    months.append(subfolders[n][0:2])\n",
    "    years.append(subfolders[n][3:7])\n",
    "    paths.append(f'/{subfolders[n][3:7]}/')\n",
    "\n",
    "# render as a dataframe\n",
    "subfolder_df = pd.DataFrame(\n",
    "    {'name': names, 'type': \"folder\", 'project': codes, 'year': years, 'month': months,\\\n",
    "     'path': paths}\n",
    ")\n",
    "\n",
    "# join the list of new folders into the dataframe\n",
    "proj_filenames = pd.concat([proj_filenames, subfolder_df], axis=0, join='outer')"
   ]
  },
  {
   "cell_type": "code",
   "execution_count": null,
   "id": "530ee7ad",
   "metadata": {},
   "outputs": [],
   "source": []
  },
  {
   "cell_type": "code",
   "execution_count": null,
   "id": "0844c358",
   "metadata": {
    "ExecuteTime": {
     "end_time": "2023-02-21T19:06:41.236823Z",
     "start_time": "2023-02-21T19:06:33.056376Z"
    }
   },
   "outputs": [],
   "source": [
    "\n",
    "# Figure out how to record year and pass as part of a path to strip from string\n",
    "#         newfile.strip()\n",
    "#         filelist.append(newfile[0]['ServerRelativeUrl'])\n",
    "\n",
    "print(f'Month: {month}, Year: {year}')"
   ]
  },
  {
   "cell_type": "code",
   "execution_count": null,
   "id": "2095db3b",
   "metadata": {
    "ExecuteTime": {
     "end_time": "2023-02-21T01:46:41.003550Z",
     "start_time": "2023-02-21T01:46:31.825066Z"
    }
   },
   "outputs": [],
   "source": [
    "# getting filenames in a directory and add to a list\n",
    "testlist = []\n",
    "for folder in folderlist:\n",
    "    folderpath = site.Folder(active_dir + \"/\" + folder)\n",
    "    testlist.append(folderpath.files)\n",
    "\n",
    "for x in range(0, len(testlist)):\n",
    "    if len(testlist[x]) > 0:\n",
    "        teststring = testlist[x][0]['ServerRelativeUrl']\n",
    "        print(teststring)\n",
    "        \n",
    "# = testlist[x][0]['ServerRelativeUrl']\n",
    "# testlist"
   ]
  },
  {
   "cell_type": "code",
   "execution_count": null,
   "id": "49173c17",
   "metadata": {},
   "outputs": [],
   "source": []
  },
  {
   "cell_type": "code",
   "execution_count": null,
   "id": "78e76b7f",
   "metadata": {
    "ExecuteTime": {
     "end_time": "2023-02-21T01:13:00.362338Z",
     "start_time": "2023-02-21T01:12:59.859434Z"
    }
   },
   "outputs": [],
   "source": [
    "# get the first subfolder\n",
    "folder = site.Folder(active_dir + \"/\" + folderlist[0])\n",
    "\n",
    "# later add this to a new function that calls the first one\n",
    "# or at least a while loop"
   ]
  },
  {
   "cell_type": "code",
   "execution_count": null,
   "id": "b189930e",
   "metadata": {
    "ExecuteTime": {
     "end_time": "2023-02-21T01:13:02.605340Z",
     "start_time": "2023-02-21T01:13:02.443827Z"
    }
   },
   "outputs": [],
   "source": [
    "# a list of all folder names\n",
    "\n",
    "subfolders = folder.folders"
   ]
  },
  {
   "cell_type": "code",
   "execution_count": null,
   "id": "2540da78",
   "metadata": {
    "ExecuteTime": {
     "end_time": "2023-02-21T01:01:07.173318Z",
     "start_time": "2023-02-21T01:01:07.153887Z"
    }
   },
   "outputs": [],
   "source": []
  },
  {
   "cell_type": "code",
   "execution_count": null,
   "id": "c3a750a8",
   "metadata": {
    "ExecuteTime": {
     "end_time": "2023-02-21T01:01:08.533085Z",
     "start_time": "2023-02-21T01:01:08.504205Z"
    }
   },
   "outputs": [],
   "source": [
    "proj_filenames.tail(15)"
   ]
  },
  {
   "cell_type": "code",
   "execution_count": null,
   "id": "250ed461",
   "metadata": {
    "ExecuteTime": {
     "end_time": "2023-02-21T00:57:00.927463Z",
     "start_time": "2023-02-21T00:57:00.927463Z"
    }
   },
   "outputs": [],
   "source": [
    "initial_folderlist = folderlist\n",
    "active_dir = active_dir + \"/\" + folderlist[0]\n",
    "folderlist = site.list(active_dir).GetListItems(fields=['URL Path'])\n",
    "folderlist"
   ]
  },
  {
   "cell_type": "code",
   "execution_count": null,
   "id": "64161675",
   "metadata": {},
   "outputs": [],
   "source": []
  },
  {
   "cell_type": "code",
   "execution_count": null,
   "id": "3bd803ef",
   "metadata": {},
   "outputs": [],
   "source": []
  },
  {
   "cell_type": "code",
   "execution_count": null,
   "id": "006dd402",
   "metadata": {},
   "outputs": [],
   "source": []
  },
  {
   "cell_type": "code",
   "execution_count": null,
   "id": "356e9502",
   "metadata": {},
   "outputs": [],
   "source": []
  },
  {
   "cell_type": "code",
   "execution_count": null,
   "id": "6278cb43",
   "metadata": {},
   "outputs": [],
   "source": []
  },
  {
   "cell_type": "code",
   "execution_count": null,
   "id": "71ce20d5",
   "metadata": {
    "ExecuteTime": {
     "end_time": "2023-02-20T22:42:20.331818Z",
     "start_time": "2023-02-20T22:42:20.296602Z"
    }
   },
   "outputs": [],
   "source": [
    "foldernames = []\n",
    "for n in range(0,len(folderlist)):\n",
    "    # strip out the junk\n",
    "    rawtxt = str(folderlist[n].values())\n",
    "    rawtxt = rawtxt.strip('dict_values')\n",
    "    rawtxt = rawtxt.strip('Projec')\n",
    "    rawtxt = rawtxt.strip('\\'])')\n",
    "    rawtxt = rawtxt.strip('([\\'')\n",
    "    \n",
    "    foldernames.append(rawtxt)"
   ]
  },
  {
   "cell_type": "code",
   "execution_count": null,
   "id": "1c4b4dc5",
   "metadata": {
    "ExecuteTime": {
     "end_time": "2023-02-20T22:44:54.772338Z",
     "start_time": "2023-02-20T22:44:54.738720Z"
    }
   },
   "outputs": [],
   "source": [
    "regex.regex()"
   ]
  },
  {
   "cell_type": "code",
   "execution_count": null,
   "id": "f6848613",
   "metadata": {
    "ExecuteTime": {
     "end_time": "2023-02-20T22:43:00.142996Z",
     "start_time": "2023-02-20T22:43:00.111468Z"
    }
   },
   "outputs": [],
   "source": [
    "foldernames[0]"
   ]
  },
  {
   "cell_type": "code",
   "execution_count": null,
   "id": "fdb16ee8",
   "metadata": {
    "ExecuteTime": {
     "end_time": "2023-02-20T22:39:21.183741Z",
     "start_time": "2023-02-20T22:39:20.311260Z"
    }
   },
   "outputs": [],
   "source": [
    "folder = site.Folder('/FEA Projects/2022')\n",
    "allfiles = folder.files\n",
    "demofile = allfiles[0]\n",
    "print(demofile['Name'])"
   ]
  },
  {
   "cell_type": "code",
   "execution_count": null,
   "id": "ca83d209",
   "metadata": {
    "ExecuteTime": {
     "end_time": "2023-02-20T22:05:57.540120Z",
     "start_time": "2023-02-20T22:05:57.525217Z"
    }
   },
   "outputs": [],
   "source": [
    "type(folder)"
   ]
  },
  {
   "cell_type": "code",
   "execution_count": null,
   "id": "40c18ba1",
   "metadata": {
    "ExecuteTime": {
     "end_time": "2023-02-20T22:05:18.858346Z",
     "start_time": "2023-02-20T22:05:18.832259Z"
    }
   },
   "outputs": [],
   "source": [
    "type(demofile)"
   ]
  },
  {
   "cell_type": "code",
   "execution_count": null,
   "id": "b6fe6c41",
   "metadata": {},
   "outputs": [],
   "source": []
  },
  {
   "cell_type": "code",
   "execution_count": null,
   "id": "93c733f9",
   "metadata": {
    "ExecuteTime": {
     "end_time": "2023-02-20T18:26:10.142460Z",
     "start_time": "2023-02-20T18:26:10.129853Z"
    }
   },
   "outputs": [],
   "source": []
  },
  {
   "cell_type": "code",
   "execution_count": null,
   "id": "1205c8f8",
   "metadata": {
    "ExecuteTime": {
     "end_time": "2023-02-20T19:02:33.727630Z",
     "start_time": "2023-02-20T19:02:33.695385Z"
    }
   },
   "outputs": [],
   "source": [
    "# function to take a year range as input and write rows to the dataframe from those years\n",
    "# \n"
   ]
  },
  {
   "cell_type": "code",
   "execution_count": null,
   "id": "9bbc95c7",
   "metadata": {
    "ExecuteTime": {
     "end_time": "2023-02-20T19:02:35.590618Z",
     "start_time": "2023-02-20T19:02:35.575922Z"
    }
   },
   "outputs": [],
   "source": [
    "# "
   ]
  },
  {
   "cell_type": "code",
   "execution_count": null,
   "id": "78284dfa",
   "metadata": {
    "ExecuteTime": {
     "end_time": "2023-02-20T19:02:36.334238Z",
     "start_time": "2023-02-20T19:02:36.302556Z"
    }
   },
   "outputs": [],
   "source": [
    "#"
   ]
  },
  {
   "cell_type": "code",
   "execution_count": null,
   "id": "ae2b89ec",
   "metadata": {
    "ExecuteTime": {
     "end_time": "2023-02-20T19:02:37.044488Z",
     "start_time": "2023-02-20T19:02:37.035501Z"
    }
   },
   "outputs": [],
   "source": [
    "#"
   ]
  },
  {
   "cell_type": "code",
   "execution_count": null,
   "id": "05734bff",
   "metadata": {},
   "outputs": [],
   "source": []
  },
  {
   "cell_type": "code",
   "execution_count": null,
   "id": "675921bb",
   "metadata": {},
   "outputs": [],
   "source": []
  },
  {
   "cell_type": "markdown",
   "id": "ab7f534f",
   "metadata": {},
   "source": []
  },
  {
   "cell_type": "code",
   "execution_count": null,
   "id": "1bafb294",
   "metadata": {},
   "outputs": [],
   "source": []
  },
  {
   "cell_type": "markdown",
   "id": "e94d24c0",
   "metadata": {},
   "source": []
  },
  {
   "cell_type": "code",
   "execution_count": null,
   "id": "6815887b",
   "metadata": {},
   "outputs": [],
   "source": []
  },
  {
   "cell_type": "code",
   "execution_count": null,
   "id": "d351289c",
   "metadata": {},
   "outputs": [],
   "source": []
  },
  {
   "cell_type": "markdown",
   "id": "ebf9eb6a",
   "metadata": {},
   "source": []
  },
  {
   "cell_type": "code",
   "execution_count": null,
   "id": "7358d4a5",
   "metadata": {},
   "outputs": [],
   "source": []
  },
  {
   "cell_type": "code",
   "execution_count": null,
   "id": "b3c860d8",
   "metadata": {},
   "outputs": [],
   "source": []
  },
  {
   "cell_type": "markdown",
   "id": "592382cc",
   "metadata": {},
   "source": []
  },
  {
   "cell_type": "code",
   "execution_count": null,
   "id": "d9991f0f",
   "metadata": {},
   "outputs": [],
   "source": []
  },
  {
   "cell_type": "code",
   "execution_count": null,
   "id": "15e121db",
   "metadata": {},
   "outputs": [],
   "source": []
  },
  {
   "cell_type": "code",
   "execution_count": null,
   "id": "b4c5693a",
   "metadata": {},
   "outputs": [],
   "source": []
  },
  {
   "cell_type": "code",
   "execution_count": null,
   "id": "8deb3c44",
   "metadata": {
    "ExecuteTime": {
     "end_time": "2023-02-20T23:29:47.625190Z",
     "start_time": "2023-02-20T23:29:47.615481Z"
    }
   },
   "outputs": [],
   "source": [
    "# from https://stackoverflow.com/questions/50531425/get-list-of-files-in-a-sharepoint-directory-using-python\n",
    "# may use later\n",
    "\n",
    "# sp_site = 'feapc.sharepoint.com'\n",
    "# relative_url = \"/FEA%20Projects/Forms/\"\n",
    "\n",
    "# client_credentials = ClientCredential(credentials['client_id'], credentials['client_secret'])\n",
    "# ctx = ClientContext(sp_site).with_credentials(client_credentials)\n",
    "# libraryRoot = ctx.web.get_folder_by_server_relative_path(relative_url)\n",
    "# ctx.load(libraryRoot)\n",
    "# ctx.execute_query()\n",
    "\n",
    "# #if you want to get the folders within <sub_folder> \n",
    "# folders = libraryRoot.folders\n",
    "# ctx.load(folders)\n",
    "# ctx.execute_query()\n",
    "# for myfolder in folders:\n",
    "#     print(\"Folder name: {0}\".format(myfolder.properties[\"ServerRelativeUrl\"]))\n",
    "\n",
    "# #if you want to get the files in the folder        \n",
    "# files = libraryRoot.files\n",
    "# ctx.load(files)\n",
    "# ctx.execute_query()\n",
    "\n",
    "# #create a dataframe of the important file properties for me for each file in the folder\n",
    "# df_files = pd.DataFrame(columns = ['Name', 'ServerRelativeUrl', 'TimeLastModified', 'ModTime'])\n",
    "# for myfile in files:\n",
    "#     #use mod_time to get in better date format\n",
    "#     mod_time = datetime.datetime.strptime(myfile.properties['TimeLastModified'], '%Y-%m-%dT%H:%M:%SZ')  \n",
    "#     #create a dict of all of the info to add into dataframe and then append to dataframe\n",
    "#     dict = {'Name': myfile.properties['Name'], 'ServerRelativeUrl': myfile.properties['ServerRelativeUrl'], 'TimeLastModified': myfile.properties['TimeLastModified'], 'ModTime': mod_time}\n",
    "#     df_files = df_files.append(dict, ignore_index= True )\n",
    "\n",
    "#     #print statements if needed\n",
    "#     # print(\"File name: {0}\".format(myfile.properties[\"Name\"]))\n",
    "#     # print(\"File link: {0}\".format(myfile.properties[\"ServerRelativeUrl\"]))\n",
    "#     # print(\"File last modified: {0}\".format(myfile.properties[\"TimeLastModified\"]))\n",
    "# #get index of the most recently modified file and the ServerRelativeUrl associated with that index\n",
    "# newest_index = df_files['ModTime'].idxmax()\n",
    "# newest_file_url = df_files.iloc[newest_index]['ServerRelativeUrl']\n",
    "\n",
    "# # Get Excel File by newest_file_url identified above\n",
    "# response= File.open_binary(ctx, newest_file_url)\n",
    "#     # save data to BytesIO stream\n",
    "# bytes_file_obj = io.BytesIO()\n",
    "# bytes_file_obj.write(response.content)\n",
    "# bytes_file_obj.seek(0)  # set file object to start\n",
    "#     # load Excel file from BytesIO stream\n",
    "# df = pd.read_excel(bytes_file_obj, sheet_name='Sheet1', header= 0)"
   ]
  },
  {
   "cell_type": "code",
   "execution_count": null,
   "id": "6a4bdc93",
   "metadata": {},
   "outputs": [],
   "source": []
  }
 ],
 "metadata": {
  "hide_input": false,
  "kernelspec": {
   "display_name": "Python 3 (ipykernel)",
   "language": "python",
   "name": "python3"
  },
  "language_info": {
   "codemirror_mode": {
    "name": "ipython",
    "version": 3
   },
   "file_extension": ".py",
   "mimetype": "text/x-python",
   "name": "python",
   "nbconvert_exporter": "python",
   "pygments_lexer": "ipython3",
   "version": "3.10.7"
  },
  "toc": {
   "base_numbering": 1,
   "nav_menu": {},
   "number_sections": true,
   "sideBar": true,
   "skip_h1_title": false,
   "title_cell": "Table of Contents",
   "title_sidebar": "Contents",
   "toc_cell": false,
   "toc_position": {},
   "toc_section_display": true,
   "toc_window_display": false
  }
 },
 "nbformat": 4,
 "nbformat_minor": 5
}

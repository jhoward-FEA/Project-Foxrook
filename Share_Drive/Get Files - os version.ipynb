{
 "cells": [
  {
   "cell_type": "code",
   "execution_count": 1,
   "id": "3fcfca52",
   "metadata": {
    "ExecuteTime": {
     "end_time": "2023-10-19T20:27:35.194797Z",
     "start_time": "2023-10-19T20:27:34.616013Z"
    }
   },
   "outputs": [],
   "source": [
    "import pandas as pd, numpy as np, matplotlib as plt\n",
    "import re, os, time, datetime, io\n",
    "\n",
    "pd.set_option('display.max_colwidth', 255)"
   ]
  },
  {
   "cell_type": "code",
   "execution_count": 2,
   "id": "e9008041",
   "metadata": {
    "ExecuteTime": {
     "end_time": "2023-10-19T20:27:35.210706Z",
     "start_time": "2023-10-19T20:27:35.197650Z"
    }
   },
   "outputs": [],
   "source": [
    "# initialize pandas dataframe 'projects_df' for the data\n",
    "\n",
    "projects_df = pd.DataFrame(columns=[\"name\", \"ext\", \"project\", \"code\", \"year\", \"month\", \"type\"])"
   ]
  },
  {
   "cell_type": "code",
   "execution_count": 3,
   "id": "843577cf",
   "metadata": {
    "ExecuteTime": {
     "end_time": "2023-10-19T20:27:35.226675Z",
     "start_time": "2023-10-19T20:27:35.213064Z"
    }
   },
   "outputs": [],
   "source": [
    "# set root_dir.  should be able to orient all cwds by adding folder names to this string\n",
    "root_dir = 'C:\\\\Users\\\\jhoward\\\\Facility Engineering Associates\\\\\\\n",
    "Facility Engineering Associates Team Site - FEA Projects'"
   ]
  },
  {
   "cell_type": "code",
   "execution_count": 4,
   "id": "2a5d2c12",
   "metadata": {
    "ExecuteTime": {
     "end_time": "2023-10-19T20:27:35.242110Z",
     "start_time": "2023-10-19T20:27:35.230573Z"
    }
   },
   "outputs": [],
   "source": [
    "# generate an initial folder list at the / level (year names)\n",
    "rootfolder_list = os.listdir(root_dir)"
   ]
  },
  {
   "cell_type": "code",
   "execution_count": 5,
   "id": "cd60038f",
   "metadata": {
    "ExecuteTime": {
     "end_time": "2023-10-19T20:27:35.258295Z",
     "start_time": "2023-10-19T20:27:35.244004Z"
    }
   },
   "outputs": [],
   "source": [
    "# removing hidden folder\n",
    "rootfolder_list = rootfolder_list[1::]\n",
    "\n",
    "# strip out the odd folder out\n",
    "#rootfolder_list.remove('NPS FY19 PSAs')"
   ]
  },
  {
   "cell_type": "code",
   "execution_count": 6,
   "id": "c1d6d669",
   "metadata": {
    "ExecuteTime": {
     "end_time": "2023-10-19T20:27:35.273599Z",
     "start_time": "2023-10-19T20:27:35.260173Z"
    }
   },
   "outputs": [
    {
     "data": {
      "text/plain": [
       "['2017', '2018', '2019', '2020', '2021', '2022']"
      ]
     },
     "execution_count": 6,
     "metadata": {},
     "output_type": "execute_result"
    }
   ],
   "source": [
    "rootfolder_list"
   ]
  },
  {
   "cell_type": "code",
   "execution_count": 7,
   "id": "67951efb",
   "metadata": {
    "ExecuteTime": {
     "end_time": "2023-10-19T20:27:35.289258Z",
     "start_time": "2023-10-19T20:27:35.275911Z"
    }
   },
   "outputs": [],
   "source": [
    "# and for now, stripping it down to 2017-2023\n",
    "#rootfolder_list = rootfolder_list[11::]"
   ]
  },
  {
   "cell_type": "code",
   "execution_count": 8,
   "id": "79ecdac8",
   "metadata": {
    "ExecuteTime": {
     "end_time": "2023-10-19T20:27:35.304486Z",
     "start_time": "2023-10-19T20:27:35.291259Z"
    }
   },
   "outputs": [],
   "source": [
    "# sort the list\n",
    "rootfolder_list.sort()"
   ]
  },
  {
   "cell_type": "code",
   "execution_count": 9,
   "id": "bcbf9c57",
   "metadata": {
    "ExecuteTime": {
     "end_time": "2023-10-19T20:27:35.320223Z",
     "start_time": "2023-10-19T20:27:35.308578Z"
    }
   },
   "outputs": [],
   "source": [
    "# initialize dataframes for new folders to be added\n",
    "# initial entries for the root level folders\n",
    "new_folders = pd.DataFrame({'name': rootfolder_list, 'ext': \"n/a\", 'project': 'n/a', 'code': \"n/a\",\\\n",
    "                            'year': rootfolder_list, 'month': \"n/a\", 'type': 'folder', 'path': '/'})\n",
    "\n",
    "# join initial folder list into the main dataframe\n",
    "projects_df = pd.concat([projects_df, new_folders], axis=0, join='outer')"
   ]
  },
  {
   "cell_type": "markdown",
   "id": "bfa3ebd6",
   "metadata": {},
   "source": [
    "### Functions:\n",
    "<ol type=\"1\">\n",
    "    <li><strong>build_filestructure</strong> - recursively applies the previous three functions at each level until it cannot go deeper, then merges dataframes</li>\n",
    "    <ol style=\"list-style-type: lower-alpha;\">\n",
    "      <li>takes one parameter:</li>\n",
    "        <ol style=\"list-style-type: lower-roman;\">\n",
    "            <li>- the root-level path you wish to use (root_dir, or root_dir\\\\year)</li>\n",
    "            <br />  \n",
    "        </ol>\n",
    "    </ol>    \n",
    "    <li><strong>get_subfolders</strong> - outputs a list of short dictionaries representing the subfolders inside a particular folder path</li>\n",
    "    <ol style=\"list-style-type: lower-alpha;\">\n",
    "      <li>takes two parameters</li>\n",
    "        <ol style=\"list-style-type: lower-roman;\">\n",
    "            <li><em>folderlist</em> (a list of folder names to check for subfolders)</li>\n",
    "            <li><em>cwd</em> (the path to the folder containing those subfolders, as a string)</li>\n",
    "        </ol>\n",
    "    </ol>\n",
    "    <br />\n",
    "    <li><strong>add_folders</strong> - takes a list (generated by <em>get_subfolders</em>) and outputs a pandas df containing rows for folders, ready to be joined to the main projects_df</li>\n",
    "        <ol style=\"list-style-type: lower-alpha;\">\n",
    "          <li>takes one parameter:</li>\n",
    "            <ol style=\"list-style-type: lower-roman;\">\n",
    "                <li>a list (generated by <em>get_subfolders</em>) of dictionaries</li>\n",
    "                <li>each dict should contain path, year, and subfolders keys.</li>\n",
    "                <li>expects path & year values as strings, subfolder values as lists</li>\n",
    "            </ol>\n",
    "        </ol>\n",
    "    <br />\n",
    "    <li><strong>add_files</strong> - takes a list (generated by <em>get_subfolders</em>) and outputs a pandas df containing rows for files, ready to be joined to the main <em>projects_df</em></li>\n",
    "    <ol style=\"list-style-type: lower-alpha;\">\n",
    "        <li>takes one parameter:</li>\n",
    "            <ol style=\"list-style-type: lower-roman;\">\n",
    "                <li>a list (the same <em>new_folders</em> list generated by get_subfolders)</li>\n",
    "            </ol>\n",
    "    </ol>    \n",
    "</ol>"
   ]
  },
  {
   "cell_type": "code",
   "execution_count": 10,
   "id": "d9433e95",
   "metadata": {
    "ExecuteTime": {
     "end_time": "2023-10-19T20:27:35.492450Z",
     "start_time": "2023-10-19T20:27:35.478367Z"
    }
   },
   "outputs": [],
   "source": [
    "# blank list to hold folder/path/type dicts\n",
    "filestructure_list = []\n",
    "\n",
    "def get_filestructure(listname, cwd):\n",
    "    # blank lists to hold the dict's values under different keys\n",
    "    filenames = []\n",
    "    paths = []\n",
    "    types = []\n",
    "    \n",
    "    # list of root level folders (years)\n",
    "    folders = os.listdir(cwd)\n",
    "    for folder in folders:\n",
    "        # record the basedir to reset the cwd to after the loop\n",
    "        base_dir = cwd\n",
    "        cwd = cwd + '\\\\' + folder\n",
    "        subfolder_dir = cwd\n",
    "\n",
    "        if os.path.isdir(cwd) == True:\n",
    "            #print(f\"{cwd} is a folder\")\n",
    "            get_filestructure(listname, cwd)\n",
    "            cwd = subfolder_dir\n",
    "            filenames.append(folder)\n",
    "            path = '\\\\' + cwd.strip('C:\\\\Users\\\\jhoward\\\\Facility Engineering Associates\\\\\\\n",
    "            Facility Engineering Associates Team Site - FEA Projects')\n",
    "            paths.append(path)\n",
    "            types.append(\"folder\")\n",
    "        else:\n",
    "            #print(f\"{cwd} is a folder\")\n",
    "            cwd = subfolder_dir\n",
    "            filenames.append(folder)\n",
    "            path = '\\\\' + cwd.strip('C:\\\\Users\\\\jhoward\\\\Facility Engineering Associates\\\\\\\n",
    "            Facility Engineering Associates Team Site - FEA Projects')\n",
    "            path = path.strip(folder)\n",
    "            paths.append(path)\n",
    "            types.append(\"file\")\n",
    "            \n",
    "        cwd = base_dir\n",
    "        for i in range(0, len(filenames)):\n",
    "            temp_dict = {}\n",
    "            temp_dict['name'] = filenames[i]\n",
    "            temp_dict['path'] = paths[i]\n",
    "            temp_dict['type'] = types[i]\n",
    "            listname.append(temp_dict)\n",
    "\n",
    "    return listname"
   ]
  },
  {
   "cell_type": "code",
   "execution_count": 11,
   "id": "5a946818",
   "metadata": {
    "ExecuteTime": {
     "end_time": "2023-10-19T20:27:36.539235Z",
     "start_time": "2023-10-19T20:27:36.526142Z"
    }
   },
   "outputs": [],
   "source": [
    "cwd = root_dir"
   ]
  },
  {
   "cell_type": "code",
   "execution_count": 12,
   "id": "4a05e760",
   "metadata": {
    "ExecuteTime": {
     "end_time": "2023-10-19T20:28:23.556047Z",
     "start_time": "2023-10-19T20:27:37.054052Z"
    }
   },
   "outputs": [],
   "source": [
    "filestructure_list = []\n",
    "for folder in rootfolder_list:\n",
    "    cwd = root_dir + '\\\\' + folder\n",
    "    filestructure = get_filestructure(filestructure_list, cwd)"
   ]
  },
  {
   "cell_type": "code",
   "execution_count": null,
   "id": "f96dbfd8",
   "metadata": {
    "ExecuteTime": {
     "start_time": "2023-10-19T20:27:17.268Z"
    }
   },
   "outputs": [
    {
     "name": "stderr",
     "output_type": "stream",
     "text": [
      "IOPub data rate exceeded.\n",
      "The notebook server will temporarily stop sending output\n",
      "to the client in order to avoid crashing it.\n",
      "To change this limit, set the config variable\n",
      "`--NotebookApp.iopub_data_rate_limit`.\n",
      "\n",
      "Current values:\n",
      "NotebookApp.iopub_data_rate_limit=1000000.0 (bytes/sec)\n",
      "NotebookApp.rate_limit_window=3.0 (secs)\n",
      "\n"
     ]
    }
   ],
   "source": [
    "\n",
    "    "
   ]
  },
  {
   "cell_type": "code",
   "execution_count": null,
   "id": "e6e8cc5d",
   "metadata": {},
   "outputs": [],
   "source": []
  },
  {
   "cell_type": "code",
   "execution_count": 13,
   "id": "e003fdb6",
   "metadata": {
    "ExecuteTime": {
     "end_time": "2023-02-28T15:34:17.345788Z",
     "start_time": "2023-02-28T15:34:15.539116Z"
    }
   },
   "outputs": [],
   "source": [
    "projects_df = pd.DataFrame(filestructure)"
   ]
  },
  {
   "cell_type": "code",
   "execution_count": 14,
   "id": "ea5410fa",
   "metadata": {
    "ExecuteTime": {
     "end_time": "2023-02-28T15:34:20.597201Z",
     "start_time": "2023-02-28T15:34:17.348790Z"
    }
   },
   "outputs": [],
   "source": [
    "projects_df.sort_values(by='path', inplace=True)"
   ]
  },
  {
   "cell_type": "code",
   "execution_count": 34,
   "id": "2a6821ea",
   "metadata": {
    "ExecuteTime": {
     "end_time": "2023-02-28T00:33:15.772617Z",
     "start_time": "2023-02-28T00:33:15.742101Z"
    }
   },
   "outputs": [
    {
     "data": {
      "text/html": [
       "<div>\n",
       "<style scoped>\n",
       "    .dataframe tbody tr th:only-of-type {\n",
       "        vertical-align: middle;\n",
       "    }\n",
       "\n",
       "    .dataframe tbody tr th {\n",
       "        vertical-align: top;\n",
       "    }\n",
       "\n",
       "    .dataframe thead th {\n",
       "        text-align: right;\n",
       "    }\n",
       "</style>\n",
       "<table border=\"1\" class=\"dataframe\">\n",
       "  <thead>\n",
       "    <tr style=\"text-align: right;\">\n",
       "      <th></th>\n",
       "      <th>name</th>\n",
       "      <th>path</th>\n",
       "      <th>type</th>\n",
       "    </tr>\n",
       "  </thead>\n",
       "  <tbody>\n",
       "    <tr>\n",
       "      <th>200</th>\n",
       "      <td>01.2017.008896 (Bethesda Row Jaleo Restaurant Structural Consulting)</td>\n",
       "      <td>\\2017\\01.2017.008896 (Bethesda Row Jaleo Restaurant Structural Consulting)</td>\n",
       "      <td>folder</td>\n",
       "    </tr>\n",
       "    <tr>\n",
       "      <th>142</th>\n",
       "      <td>01.2017.008896 (Bethesda Row Jaleo Restaurant Structural Consulting)</td>\n",
       "      <td>\\2017\\01.2017.008896 (Bethesda Row Jaleo Restaurant Structural Consulting)</td>\n",
       "      <td>folder</td>\n",
       "    </tr>\n",
       "    <tr>\n",
       "      <th>63387</th>\n",
       "      <td>01.2017.008896 (Bethesda Row Jaleo Restaurant Structural Consulting)</td>\n",
       "      <td>\\2017\\01.2017.008896 (Bethesda Row Jaleo Restaurant Structural Consulting)</td>\n",
       "      <td>folder</td>\n",
       "    </tr>\n",
       "    <tr>\n",
       "      <th>66632</th>\n",
       "      <td>01.2017.008896 (Bethesda Row Jaleo Restaurant Structural Consulting)</td>\n",
       "      <td>\\2017\\01.2017.008896 (Bethesda Row Jaleo Restaurant Structural Consulting)</td>\n",
       "      <td>folder</td>\n",
       "    </tr>\n",
       "    <tr>\n",
       "      <th>67780</th>\n",
       "      <td>01.2017.008896 (Bethesda Row Jaleo Restaurant Structural Consulting)</td>\n",
       "      <td>\\2017\\01.2017.008896 (Bethesda Row Jaleo Restaurant Structural Consulting)</td>\n",
       "      <td>folder</td>\n",
       "    </tr>\n",
       "  </tbody>\n",
       "</table>\n",
       "</div>"
      ],
      "text/plain": [
       "                                                                       name  \\\n",
       "200    01.2017.008896 (Bethesda Row Jaleo Restaurant Structural Consulting)   \n",
       "142    01.2017.008896 (Bethesda Row Jaleo Restaurant Structural Consulting)   \n",
       "63387  01.2017.008896 (Bethesda Row Jaleo Restaurant Structural Consulting)   \n",
       "66632  01.2017.008896 (Bethesda Row Jaleo Restaurant Structural Consulting)   \n",
       "67780  01.2017.008896 (Bethesda Row Jaleo Restaurant Structural Consulting)   \n",
       "\n",
       "                                                                             path  \\\n",
       "200    \\2017\\01.2017.008896 (Bethesda Row Jaleo Restaurant Structural Consulting)   \n",
       "142    \\2017\\01.2017.008896 (Bethesda Row Jaleo Restaurant Structural Consulting)   \n",
       "63387  \\2017\\01.2017.008896 (Bethesda Row Jaleo Restaurant Structural Consulting)   \n",
       "66632  \\2017\\01.2017.008896 (Bethesda Row Jaleo Restaurant Structural Consulting)   \n",
       "67780  \\2017\\01.2017.008896 (Bethesda Row Jaleo Restaurant Structural Consulting)   \n",
       "\n",
       "         type  \n",
       "200    folder  \n",
       "142    folder  \n",
       "63387  folder  \n",
       "66632  folder  \n",
       "67780  folder  "
      ]
     },
     "execution_count": 34,
     "metadata": {},
     "output_type": "execute_result"
    }
   ],
   "source": [
    "projects_df.head()"
   ]
  },
  {
   "cell_type": "code",
   "execution_count": 15,
   "id": "05e6f3a2",
   "metadata": {
    "ExecuteTime": {
     "end_time": "2023-02-28T15:36:27.304289Z",
     "start_time": "2023-02-28T15:36:25.672965Z"
    }
   },
   "outputs": [
    {
     "name": "stdout",
     "output_type": "stream",
     "text": [
      "Duplicate Rows :\n"
     ]
    },
    {
     "data": {
      "text/html": [
       "<div>\n",
       "<style scoped>\n",
       "    .dataframe tbody tr th:only-of-type {\n",
       "        vertical-align: middle;\n",
       "    }\n",
       "\n",
       "    .dataframe tbody tr th {\n",
       "        vertical-align: top;\n",
       "    }\n",
       "\n",
       "    .dataframe thead th {\n",
       "        text-align: right;\n",
       "    }\n",
       "</style>\n",
       "<table border=\"1\" class=\"dataframe\">\n",
       "  <thead>\n",
       "    <tr style=\"text-align: right;\">\n",
       "      <th></th>\n",
       "      <th>name</th>\n",
       "      <th>path</th>\n",
       "      <th>type</th>\n",
       "    </tr>\n",
       "  </thead>\n",
       "  <tbody>\n",
       "    <tr>\n",
       "      <th>142</th>\n",
       "      <td>01.2017.008896 (Bethesda Row Jaleo Restaurant Structural Consulting)</td>\n",
       "      <td>\\2017\\01.2017.008896 (Bethesda Row Jaleo Restaurant Structural Consulting)</td>\n",
       "      <td>folder</td>\n",
       "    </tr>\n",
       "    <tr>\n",
       "      <th>103409</th>\n",
       "      <td>01.2017.008896 (Bethesda Row Jaleo Restaurant Structural Consulting)</td>\n",
       "      <td>\\2017\\01.2017.008896 (Bethesda Row Jaleo Restaurant Structural Consulting)</td>\n",
       "      <td>folder</td>\n",
       "    </tr>\n",
       "    <tr>\n",
       "      <th>103820</th>\n",
       "      <td>01.2017.008896 (Bethesda Row Jaleo Restaurant Structural Consulting)</td>\n",
       "      <td>\\2017\\01.2017.008896 (Bethesda Row Jaleo Restaurant Structural Consulting)</td>\n",
       "      <td>folder</td>\n",
       "    </tr>\n",
       "    <tr>\n",
       "      <th>103999</th>\n",
       "      <td>01.2017.008896 (Bethesda Row Jaleo Restaurant Structural Consulting)</td>\n",
       "      <td>\\2017\\01.2017.008896 (Bethesda Row Jaleo Restaurant Structural Consulting)</td>\n",
       "      <td>folder</td>\n",
       "    </tr>\n",
       "    <tr>\n",
       "      <th>200</th>\n",
       "      <td>01.2017.008896 (Bethesda Row Jaleo Restaurant Structural Consulting)</td>\n",
       "      <td>\\2017\\01.2017.008896 (Bethesda Row Jaleo Restaurant Structural Consulting)</td>\n",
       "      <td>folder</td>\n",
       "    </tr>\n",
       "    <tr>\n",
       "      <th>...</th>\n",
       "      <td>...</td>\n",
       "      <td>...</td>\n",
       "      <td>...</td>\n",
       "    </tr>\n",
       "    <tr>\n",
       "      <th>3018306</th>\n",
       "      <td>Final Proposal</td>\n",
       "      <td>\\2023\\08.2023.000538 (King County Rural Library District FCA and Long Range Plan)\\Final Prop</td>\n",
       "      <td>folder</td>\n",
       "    </tr>\n",
       "    <tr>\n",
       "      <th>3018305</th>\n",
       "      <td>Proposal Prep Materials</td>\n",
       "      <td>\\2023\\08.2023.000538 (King County Rural Library District FCA and Long Range Plan)\\Proposal Prep M</td>\n",
       "      <td>folder</td>\n",
       "    </tr>\n",
       "    <tr>\n",
       "      <th>3018331</th>\n",
       "      <td>Final Proposal</td>\n",
       "      <td>\\2023\\11.2023.000024 (Wyoming SCD Professional Qualifications)\\Final Prop</td>\n",
       "      <td>folder</td>\n",
       "    </tr>\n",
       "    <tr>\n",
       "      <th>3018330</th>\n",
       "      <td>Final Proposal</td>\n",
       "      <td>\\2023\\11.2023.000024 (Wyoming SCD Professional Qualifications)\\Final Prop</td>\n",
       "      <td>folder</td>\n",
       "    </tr>\n",
       "    <tr>\n",
       "      <th>3018332</th>\n",
       "      <td>Proposal Prep Materials</td>\n",
       "      <td>\\2023\\11.2023.000024 (Wyoming SCD Professional Qualifications)\\Proposal Prep M</td>\n",
       "      <td>folder</td>\n",
       "    </tr>\n",
       "  </tbody>\n",
       "</table>\n",
       "<p>2907073 rows × 3 columns</p>\n",
       "</div>"
      ],
      "text/plain": [
       "                                                                         name  \\\n",
       "142      01.2017.008896 (Bethesda Row Jaleo Restaurant Structural Consulting)   \n",
       "103409   01.2017.008896 (Bethesda Row Jaleo Restaurant Structural Consulting)   \n",
       "103820   01.2017.008896 (Bethesda Row Jaleo Restaurant Structural Consulting)   \n",
       "103999   01.2017.008896 (Bethesda Row Jaleo Restaurant Structural Consulting)   \n",
       "200      01.2017.008896 (Bethesda Row Jaleo Restaurant Structural Consulting)   \n",
       "...                                                                       ...   \n",
       "3018306                                                        Final Proposal   \n",
       "3018305                                               Proposal Prep Materials   \n",
       "3018331                                                        Final Proposal   \n",
       "3018330                                                        Final Proposal   \n",
       "3018332                                               Proposal Prep Materials   \n",
       "\n",
       "                                                                                                      path  \\\n",
       "142                             \\2017\\01.2017.008896 (Bethesda Row Jaleo Restaurant Structural Consulting)   \n",
       "103409                          \\2017\\01.2017.008896 (Bethesda Row Jaleo Restaurant Structural Consulting)   \n",
       "103820                          \\2017\\01.2017.008896 (Bethesda Row Jaleo Restaurant Structural Consulting)   \n",
       "103999                          \\2017\\01.2017.008896 (Bethesda Row Jaleo Restaurant Structural Consulting)   \n",
       "200                             \\2017\\01.2017.008896 (Bethesda Row Jaleo Restaurant Structural Consulting)   \n",
       "...                                                                                                    ...   \n",
       "3018306       \\2023\\08.2023.000538 (King County Rural Library District FCA and Long Range Plan)\\Final Prop   \n",
       "3018305  \\2023\\08.2023.000538 (King County Rural Library District FCA and Long Range Plan)\\Proposal Prep M   \n",
       "3018331                          \\2023\\11.2023.000024 (Wyoming SCD Professional Qualifications)\\Final Prop   \n",
       "3018330                          \\2023\\11.2023.000024 (Wyoming SCD Professional Qualifications)\\Final Prop   \n",
       "3018332                     \\2023\\11.2023.000024 (Wyoming SCD Professional Qualifications)\\Proposal Prep M   \n",
       "\n",
       "           type  \n",
       "142      folder  \n",
       "103409   folder  \n",
       "103820   folder  \n",
       "103999   folder  \n",
       "200      folder  \n",
       "...         ...  \n",
       "3018306  folder  \n",
       "3018305  folder  \n",
       "3018331  folder  \n",
       "3018330  folder  \n",
       "3018332  folder  \n",
       "\n",
       "[2907073 rows x 3 columns]"
      ]
     },
     "execution_count": 15,
     "metadata": {},
     "output_type": "execute_result"
    }
   ],
   "source": [
    "duplicate = projects_df[projects_df.duplicated()]\n",
    " \n",
    "print(\"Duplicate Rows :\")\n",
    "duplicate"
   ]
  },
  {
   "cell_type": "code",
   "execution_count": 16,
   "id": "b47ecd2f",
   "metadata": {
    "ExecuteTime": {
     "end_time": "2023-02-28T15:36:48.342102Z",
     "start_time": "2023-02-28T15:36:48.333593Z"
    }
   },
   "outputs": [
    {
     "data": {
      "text/plain": [
       "(3018358, 3)"
      ]
     },
     "execution_count": 16,
     "metadata": {},
     "output_type": "execute_result"
    }
   ],
   "source": [
    "projects_df.shape"
   ]
  },
  {
   "cell_type": "code",
   "execution_count": null,
   "id": "c7c593f6",
   "metadata": {},
   "outputs": [],
   "source": [
    "## CURRENT ISSUES\n",
    "\n",
    "# folders being added more than once?\n",
    "#\n",
    "# looks like (maybe) folders are being added once for every file in them.\n",
    "# Not entirely clear.\n",
    "#\n",
    "# Try counting dupes, seeing if the number varies / matches anything, \n",
    "# and see if there are any duped files or if it is just folders.\n",
    "#\n",
    "# Also check that the folders really are dupes, using the unmodified\n",
    "# (will need to remove some of the transformations from function possibly)\n",
    "# fullpath.  There are certainly going to be duplicate folder names at different locations.  \n",
    "#\n",
    "# Re-check function, esp. indent levels.  Make sure it's not adding \n",
    "# folders in a part of the loop where it will get repeated.\n",
    "\n",
    "\n"
   ]
  },
  {
   "cell_type": "code",
   "execution_count": null,
   "id": "e69cbb11",
   "metadata": {},
   "outputs": [],
   "source": []
  },
  {
   "cell_type": "code",
   "execution_count": null,
   "id": "ad763207",
   "metadata": {},
   "outputs": [],
   "source": []
  },
  {
   "cell_type": "code",
   "execution_count": 24,
   "id": "f57251b5",
   "metadata": {
    "ExecuteTime": {
     "end_time": "2023-02-28T00:28:14.236141Z",
     "start_time": "2023-02-28T00:28:14.204304Z"
    }
   },
   "outputs": [
    {
     "name": "stdout",
     "output_type": "stream",
     "text": [
      "testfolder is not a file.\n"
     ]
    }
   ],
   "source": [
    "# testname = projects_df.iloc[14]['name']\n",
    "# testname = \"testfile.na.hello\"\n",
    "testname = \"testfolder\"\n",
    "\n",
    "if testname.count('.') == 1:\n",
    "    print(testname.split('.'))\n",
    "elif testname.count('.') > 1:\n",
    "    print(f'Error: \"{testname}\" contains too many periods.')\n",
    "else:\n",
    "    print(f'{testname} is not a file.')\n"
   ]
  },
  {
   "cell_type": "code",
   "execution_count": null,
   "id": "d12f9294",
   "metadata": {},
   "outputs": [],
   "source": []
  },
  {
   "cell_type": "code",
   "execution_count": 27,
   "id": "3d49e535",
   "metadata": {
    "ExecuteTime": {
     "end_time": "2023-02-28T00:30:29.212537Z",
     "start_time": "2023-02-28T00:30:29.196831Z"
    }
   },
   "outputs": [
    {
     "name": "stdout",
     "output_type": "stream",
     "text": [
      "we got one!\n",
      "we got one!\n",
      "we got one!\n",
      "we got one!\n",
      "we got one!\n",
      "we got one!\n"
     ]
    }
   ],
   "source": [
    "for i in range(0, 6):\n",
    "               #len(projects_df)):\n",
    "    filename = projects_df.iloc[i]['name']\n",
    "    if filename.count('.') > 1:\n",
    "        print(\"error, too many periods in filename\")\n",
    "    elif filename.count('.') == 1:\n",
    "        print(\"we got one!\")\n",
    "        #[ filename, ext ] = filename.split('.')\n",
    "    else:\n",
    "        print(\"nope\")\n",
    "#         ext = \"n/a\"\n",
    "#         projects_df.iloc[i]['name'] = filename\n",
    "#         projects_df.iloc[i]['ext'] = ext\n",
    "    "
   ]
  },
  {
   "cell_type": "code",
   "execution_count": 16,
   "id": "b8dae14d",
   "metadata": {
    "ExecuteTime": {
     "end_time": "2023-02-28T00:23:41.292132Z",
     "start_time": "2023-02-28T00:23:41.134911Z"
    }
   },
   "outputs": [
    {
     "data": {
      "text/html": [
       "<div>\n",
       "<style scoped>\n",
       "    .dataframe tbody tr th:only-of-type {\n",
       "        vertical-align: middle;\n",
       "    }\n",
       "\n",
       "    .dataframe tbody tr th {\n",
       "        vertical-align: top;\n",
       "    }\n",
       "\n",
       "    .dataframe thead th {\n",
       "        text-align: right;\n",
       "    }\n",
       "</style>\n",
       "<table border=\"1\" class=\"dataframe\">\n",
       "  <thead>\n",
       "    <tr style=\"text-align: right;\">\n",
       "      <th></th>\n",
       "      <th>name</th>\n",
       "      <th>path</th>\n",
       "      <th>type</th>\n",
       "    </tr>\n",
       "  </thead>\n",
       "  <tbody>\n",
       "    <tr>\n",
       "      <th>341571</th>\n",
       "      <td>IMG_1432.JPG</td>\n",
       "      <td>\\2018\\01.2018.009280 (Montgomery County Public Schools Facility Condition Assessment)\\2018 Original\\Phase 3 - Facility Condition Survey\\02 Andrew\\569.Strawberry Knoll ES\\Pics\\</td>\n",
       "      <td>file</td>\n",
       "    </tr>\n",
       "    <tr>\n",
       "      <th>2414639</th>\n",
       "      <td>IMG_4080.JPG</td>\n",
       "      <td>\\2021\\01.2021.009736 (University of Maryland Eastern Shore (UMES) Facility Condition Assessment)\\Photos\\Student Res Cluster #3\\SRC 3 - 3000\\</td>\n",
       "      <td>file</td>\n",
       "    </tr>\n",
       "    <tr>\n",
       "      <th>369018</th>\n",
       "      <td>IMG_9175.JPG</td>\n",
       "      <td>\\2018\\01.2018.009280 (Montgomery County Public Schools Facility Condition Assessment)\\2018 Original\\Phase 3 - Facility Condition Survey\\03 CK\\302.Burtonsville ES\\Photos\\</td>\n",
       "      <td>file</td>\n",
       "    </tr>\n",
       "    <tr>\n",
       "      <th>1411697</th>\n",
       "      <td>A5.03.pdf</td>\n",
       "      <td>\\2020\\01.2020.009579 (Pike &amp; Rose Block 11 Curtainwall Consulting)\\Provided Documents\\PR11_Architectural\\</td>\n",
       "      <td>file</td>\n",
       "    </tr>\n",
       "    <tr>\n",
       "      <th>2529981</th>\n",
       "      <td>IMG_1076.JPG</td>\n",
       "      <td>\\2021\\01.2021.009766 (ABM-Bedrock RE FCA &amp; Energy Review)\\Photos\\1702 W. Fort St\\</td>\n",
       "      <td>file</td>\n",
       "    </tr>\n",
       "    <tr>\n",
       "      <th>1266270</th>\n",
       "      <td>IMG_9734.JPG</td>\n",
       "      <td>\\2019\\01.2019.009553 (Salisbury University Facility Condition Assessment)\\JPC Building Photos\\EEF Building Photos\\SV (Severn Hall)\\</td>\n",
       "      <td>file</td>\n",
       "    </tr>\n",
       "  </tbody>\n",
       "</table>\n",
       "</div>"
      ],
      "text/plain": [
       "                 name  \\\n",
       "341571   IMG_1432.JPG   \n",
       "2414639  IMG_4080.JPG   \n",
       "369018   IMG_9175.JPG   \n",
       "1411697     A5.03.pdf   \n",
       "2529981  IMG_1076.JPG   \n",
       "1266270  IMG_9734.JPG   \n",
       "\n",
       "                                                                                                                                                                                    path  \\\n",
       "341571   \\2018\\01.2018.009280 (Montgomery County Public Schools Facility Condition Assessment)\\2018 Original\\Phase 3 - Facility Condition Survey\\02 Andrew\\569.Strawberry Knoll ES\\Pics\\   \n",
       "2414639                                     \\2021\\01.2021.009736 (University of Maryland Eastern Shore (UMES) Facility Condition Assessment)\\Photos\\Student Res Cluster #3\\SRC 3 - 3000\\   \n",
       "369018         \\2018\\01.2018.009280 (Montgomery County Public Schools Facility Condition Assessment)\\2018 Original\\Phase 3 - Facility Condition Survey\\03 CK\\302.Burtonsville ES\\Photos\\   \n",
       "1411697                                                                        \\2020\\01.2020.009579 (Pike & Rose Block 11 Curtainwall Consulting)\\Provided Documents\\PR11_Architectural\\   \n",
       "2529981                                                                                                \\2021\\01.2021.009766 (ABM-Bedrock RE FCA & Energy Review)\\Photos\\1702 W. Fort St\\   \n",
       "1266270                                              \\2019\\01.2019.009553 (Salisbury University Facility Condition Assessment)\\JPC Building Photos\\EEF Building Photos\\SV (Severn Hall)\\   \n",
       "\n",
       "         type  \n",
       "341571   file  \n",
       "2414639  file  \n",
       "369018   file  \n",
       "1411697  file  \n",
       "2529981  file  \n",
       "1266270  file  "
      ]
     },
     "execution_count": 16,
     "metadata": {},
     "output_type": "execute_result"
    }
   ],
   "source": [
    "projects_df.sample(6)"
   ]
  },
  {
   "cell_type": "code",
   "execution_count": null,
   "id": "f0aebea7",
   "metadata": {},
   "outputs": [],
   "source": []
  },
  {
   "cell_type": "code",
   "execution_count": null,
   "id": "cefa9244",
   "metadata": {},
   "outputs": [],
   "source": []
  },
  {
   "cell_type": "code",
   "execution_count": null,
   "id": "a5fbb6b3",
   "metadata": {
    "ExecuteTime": {
     "end_time": "2023-02-27T23:51:16.274096Z",
     "start_time": "2023-02-27T23:51:15.957870Z"
    }
   },
   "outputs": [],
   "source": [
    "# add tail end of name (from end of name back to .) as 'ext' col if row typw is \"file\" \n",
    "# and remove \".[ext]\" from name\n",
    "\n",
    "projects_df.loc[projects_df[\"type\"] == \"file\", \"ext\"] = \"testval\"\n",
    "\n",
    "# does not work\n",
    "# for i in range(0, len(projects_df)):\n",
    "#     year = str(projects_df.iloc[i]['path'])[1:5]\n",
    "#     projects_df.iloc[i]['year'] = year"
   ]
  },
  {
   "cell_type": "code",
   "execution_count": null,
   "id": "c2d425c5",
   "metadata": {
    "ExecuteTime": {
     "end_time": "2023-02-28T00:06:57.686663Z",
     "start_time": "2023-02-28T00:06:57.655410Z"
    }
   },
   "outputs": [],
   "source": [
    "templist = projects_df['name'][0:4].tolist()\n",
    "\n",
    "templist[0].split('.')"
   ]
  },
  {
   "cell_type": "code",
   "execution_count": 15,
   "id": "661db7a1",
   "metadata": {
    "ExecuteTime": {
     "end_time": "2023-02-28T00:23:03.635483Z",
     "start_time": "2023-02-28T00:23:03.619384Z"
    }
   },
   "outputs": [
    {
     "data": {
      "text/plain": [
       "'IMG_9471.JPG'"
      ]
     },
     "execution_count": 15,
     "metadata": {},
     "output_type": "execute_result"
    }
   ],
   "source": [
    "projects_df.iloc[0]['name']"
   ]
  },
  {
   "cell_type": "code",
   "execution_count": null,
   "id": "2325c252",
   "metadata": {},
   "outputs": [],
   "source": []
  },
  {
   "cell_type": "code",
   "execution_count": null,
   "id": "19429741",
   "metadata": {
    "ExecuteTime": {
     "end_time": "2023-02-28T00:14:52.955340Z",
     "start_time": "2023-02-28T00:14:38.270446Z"
    }
   },
   "outputs": [],
   "source": []
  },
  {
   "cell_type": "code",
   "execution_count": null,
   "id": "3725f3c3",
   "metadata": {
    "ExecuteTime": {
     "end_time": "2023-02-27T23:59:31.731080Z",
     "start_time": "2023-02-27T23:59:31.380429Z"
    }
   },
   "outputs": [],
   "source": []
  },
  {
   "cell_type": "code",
   "execution_count": null,
   "id": "b4354e2f",
   "metadata": {},
   "outputs": [],
   "source": []
  },
  {
   "cell_type": "code",
   "execution_count": null,
   "id": "97f78f37",
   "metadata": {
    "ExecuteTime": {
     "end_time": "2023-02-27T21:10:19.000908Z",
     "start_time": "2023-02-27T21:10:18.983910Z"
    }
   },
   "outputs": [],
   "source": []
  },
  {
   "cell_type": "markdown",
   "id": "f48b00c7",
   "metadata": {},
   "source": [
    "### Older drafts of functions, for reference"
   ]
  },
  {
   "cell_type": "code",
   "execution_count": null,
   "id": "26cb12da",
   "metadata": {},
   "outputs": [],
   "source": [
    "# used to generate a list of folders for the add_ functions to iterate through\n",
    "# the folderlist param should be a list of foldernames\n",
    "# cwd should be the root folder containing those folders\n",
    "# ie: [FEA Projects] as cwd / [list containing '2016'-'2023'] will provide a \n",
    "# list of all the sub-folders under each year\n",
    "\n",
    "def get_subfolders(folderlist, cwd):\n",
    "    \n",
    "    # init blank list to hold extracted column values\n",
    "    new_folders = []\n",
    "    \n",
    "    # loop through the folder list making adding a line to new_folders for each entry\n",
    "    for x in (range(0, len(folderlist))):\n",
    "        subfolder_dict = {}\n",
    "        active_folder = cwd + '\\\\' + folderlist[x]\n",
    "        \n",
    "        # the path and year keys are a single string value\n",
    "        subfolder_dict['path'] = cwd + '\\\\' + folderlist[x]\n",
    "        # the full path up to but not including the subfolder\n",
    "        curr_year = subfolder_dict['path'].strip(root_dir)[0:4]\n",
    "        # the year folder within that path\n",
    "        subfolder_dict['year'] = curr_year\n",
    "        \n",
    "        # init the subfolders key value as a blank list\n",
    "        subfolder_dict['subfolders'] = []\n",
    "        # make a list of active_folder dir contents\n",
    "        subfolder_list = os.listdir(active_folder)\n",
    "        # the subfolders_list is a list of file and folder names at that path\n",
    "        \n",
    "        # iterate through the list and add folders only to the list in the dict\n",
    "        for i in range(0, len(subfolder_list)):\n",
    "            if os.path.isdir(active_folder + '\\\\' + subfolder_list[i]) == True:\n",
    "                subfolder_dict['subfolders'].append(subfolder_list[i])\n",
    "            else:\n",
    "                pass\n",
    "        \n",
    "        # now the subfolders key-value is a list of only the folders at that path\n",
    "        \n",
    "        new_folders.append(subfolder_dict)\n",
    "        # add the row with those three values to the df, then repeat loop for next folder\n",
    "        \n",
    "    # returns the final list\n",
    "    return new_folders"
   ]
  },
  {
   "cell_type": "code",
   "execution_count": null,
   "id": "98c33dc5",
   "metadata": {},
   "outputs": [],
   "source": [
    "def add_folders(newfolder_list):\n",
    "    # lists to hold extracted column values\n",
    "    foldernames, exts, projects, codes, years, months, types, paths = ([] for i in range(8))\n",
    "\n",
    "    for i in range(0, len(newfolder_list)):\n",
    "        cwd = newfolder_list[i]['path']\n",
    "        curr_year = newfolder_list[i]['year']\n",
    "\n",
    "        for x in range(0, len(newfolder_list[i]['subfolders'])):\n",
    "            active_folder = newfolder_list[i]['subfolders'][x]\n",
    "\n",
    "            if active_folder[0].isnumeric() and active_folder[2] == \".\":\n",
    "                months.append(active_folder[0:2])\n",
    "    #             years.append(active_folder[3:7])\n",
    "                codes.append(active_folder[8:14])\n",
    "                foldername = re.sub(\"-|\\(|\\)\", \"\", active_folder[15::])\n",
    "                projects.append(active_folder[0:14])\n",
    "            else:\n",
    "                months.append(\"unspecified\")\n",
    "    #             years.append(curr_year)\n",
    "                codes.append(\"unknown\")\n",
    "                projects.append(active_folder)\n",
    "                foldername = active_folder\n",
    "\n",
    "            while foldername[0] == [\" \", \"-\"]:\n",
    "                foldername = foldername[1::]\n",
    "            else:\n",
    "                pass\n",
    "            \n",
    "            foldernames.append(foldername)\n",
    "            years.append(folder_list[i]['year'])\n",
    "            exts.append(\"n/a\")\n",
    "            paths.append(cwd + \"\\\\\" + active_folder)\n",
    "            types.append(\"folder\")\n",
    "\n",
    "    new_folders = pd.DataFrame(\n",
    "        {'name': foldernames,\n",
    "         'ext': exts,\n",
    "         'project': projects,\n",
    "         'code': codes,\n",
    "         'year': years,     \n",
    "         'month': months,\n",
    "         'type': types,\n",
    "         'path': paths\n",
    "        })\n",
    "\n",
    "    return new_folders"
   ]
  },
  {
   "cell_type": "code",
   "execution_count": null,
   "id": "ec7a2c23",
   "metadata": {},
   "outputs": [],
   "source": [
    "def get_filestructure(cwd):\n",
    "    # dict to hold folders and paths\n",
    "    filestructure_dict = {}\n",
    "    # list of root level folders (years)\n",
    "    start_folders = os.listdir(cwd)\n",
    "    # drop the weird hidden folder\n",
    "    for folder in start_folders:\n",
    "        cwd = cwd + '//' + folder\n",
    "        \n",
    "        projects = os.listdir(cwd)\n",
    "        for subfolder in projects:\n",
    "            subfolder_cwd = cwd + '\\\\' + subfolder\n",
    "            if os.path.isdir(subfolder_cwd) == True:\n",
    "                sub_subfolders = os.listdir(subfolder_cwd)\n",
    "                for sub_subfolder in sub_subfolders:\n",
    "                    sub_subfolder_cwd = subfolder_cwd + '\\\\' + sub_subfolder\n",
    "                    if os.path.isdir(subfolder_cwd) == True:\n",
    "                        print(sub_subfolder_cwd)\n",
    "                \n",
    "                sub_subfolder_cwd = sub_subfolder_cwd.strip('\\\\' + sub_subfolder)\n",
    "                \n",
    "            subfolder_cwd = subfolder_cwd.strip('\\\\' + subfolder)\n",
    "                \n",
    "\n",
    "                    \n",
    "            #for sub_subfolder in sub_subfolders:\n",
    "#                     print(sub_subfolder)\n",
    "\n",
    "#         folder_cwd = base_dir + '\\\\' + folder\n",
    "        # loop to subfolders\n",
    "        cwd = cwd.strip('//' + folder)\n",
    "\n",
    "        \n",
    "    \n",
    "#     for folder in base_folders:\n",
    "#         subfolders = os.listdir(cwd)\n",
    "#         folder_cwd = base_dir + '\\\\' + folder\n",
    "#         for subfolder in subfolders:\n",
    "#             subfolder_cwd = cwd + '\\\\' + subfolder\n",
    "#             print(subfolder)\n",
    "#         while os.path.isdir(cwd) == True:\n",
    "#             for subfolder in subfolders:\n",
    "#                 print(subfolder)\n",
    "#                 sub_subfolders = os.listdir(cwd)\n",
    "#                 cwd = cwd + '\\\\' + subfolder\n",
    "#                 while os.path.isdir(cwd) == True:\n",
    "#                     print(cwd)\n",
    "#                 else:\n",
    "#                     print(\"sub-sub breakpoint\")\n",
    "#                     pass\n",
    "#             else:\n",
    "#                 print(\"sub breakpoint\")\n",
    "#                 pass\n",
    "                \n",
    "                \n",
    "            \n",
    "            # go deeper and repeat\n",
    "#             for i in range(0, len(subfolders_list)):\n",
    "#                 print(subfolders_list[i])\n",
    "#             else:\n",
    "#                 print(\"pass\")\n",
    "                "
   ]
  },
  {
   "cell_type": "code",
   "execution_count": null,
   "id": "725652a4",
   "metadata": {},
   "outputs": [],
   "source": []
  },
  {
   "cell_type": "code",
   "execution_count": null,
   "id": "f3ba0530",
   "metadata": {},
   "outputs": [],
   "source": []
  },
  {
   "cell_type": "code",
   "execution_count": null,
   "id": "1f8ddad6",
   "metadata": {},
   "outputs": [],
   "source": []
  },
  {
   "cell_type": "code",
   "execution_count": null,
   "id": "1b21aa52",
   "metadata": {},
   "outputs": [],
   "source": [
    "# add those folders and paths to the filestructure dict\n",
    "        foldername = folder        \n",
    "        folderpath = cwd + '//' + folder\n",
    "        # if folder contains subfolders\n",
    "        \n",
    "    \n",
    "    \n",
    "    while folder \n",
    "        subfolder_list = # the subfolders\n",
    "        \n",
    "        if os.path.isdir(cwd + '\\\\' + subfolders[i]) == True:\n",
    "            subfolder_dict['subfolders'].append(subfolder_list[i])\n",
    "        else:\n",
    "            pass\n",
    "    return subfolders\n",
    "    #for i in range(0, len(folder_list)):\n"
   ]
  },
  {
   "cell_type": "code",
   "execution_count": null,
   "id": "39a948d8",
   "metadata": {},
   "outputs": [],
   "source": [
    "### draft of get_filestructure\n",
    "\n",
    "for i in range(0, len(folder_list)):\n",
    "    # get the base path (folder that contains subfolders)\n",
    "    basepath = folder_list[i]['path']\n",
    "    year = folder_list[i]['year']\n",
    "#    subfolders = len(folder_list[i]['subfolders'])\n",
    "    new_folders = []    \n",
    "    \n",
    "    for x in range(0, len(folder_list[i]['subfolders'])):\n",
    "        # blank list to hold subfolder names\n",
    "        subfolder_list = []\n",
    "        \n",
    "        # get the full (path to subfolder root) path\n",
    "        # these will be the same for each subfolder in a given set of subfolders.\n",
    "        # essentially copying path and \n",
    "        subfolder = folder_list[i]['subfolders'][x]\n",
    "        fullpath = f'{basepath}\\\\{subfolder}'\n",
    "        # append each sub-subfolder name to list\n",
    "        new_folders.append(subfolder)\n",
    "        print(fullpath)\n",
    "           \n",
    "    print(new_folders)\n",
    "\n",
    "#         # name of subfolder\n",
    "#         #active_folder = folder_list[i]\n",
    "#         # ['subfolders'][x]\n",
    "#         # full path of subfolder\n",
    "        \n",
    "#     print(f'subfolder: {subfolder}, basepath: {basepath}, fullpath: {fullpath}')\n",
    "        \n",
    "#         # add the list of dicts (per get_subfolders) to subfolderlist\n",
    "#         subfolderlist.append(get_subfolders(test_list[i]['subfolders'], basepath))\n",
    "        # subfolderlist is now a list of lists that can be run through add_folders\n",
    "    \n",
    "    \n",
    "        # iterate through each subfolder and add_folders\n",
    "        #for f in range(0, len(subfolderlist)):\n",
    "         #   add_folders(subfolderlist)\n",
    "            \n",
    "        \n",
    "\n",
    "        \n",
    "        #new_folders = add_folders(folder_list)\n",
    "        # join new folder list into the main dataframe\n",
    "        #projects_df = pd.concat([proj_filenames, new_folders], axis=0, join='outer')\n",
    "        \n",
    "#         new_folders.append(os.listdir(cwd))"
   ]
  },
  {
   "cell_type": "code",
   "execution_count": null,
   "id": "21d96abc",
   "metadata": {},
   "outputs": [],
   "source": []
  },
  {
   "cell_type": "code",
   "execution_count": null,
   "id": "aca37ae0",
   "metadata": {},
   "outputs": [],
   "source": []
  },
  {
   "cell_type": "code",
   "execution_count": null,
   "id": "4f4bf228",
   "metadata": {
    "ExecuteTime": {
     "end_time": "2023-02-27T18:08:00.251693Z",
     "start_time": "2023-02-27T18:08:00.173126Z"
    }
   },
   "outputs": [],
   "source": [
    "cwd = root_dir\n",
    "# newfolder_list = get_folders(rootfolder_list, cwd)\n",
    "folder_list = get_subfolders(rootfolder_list, cwd)\n",
    "new_folders = add_folders(folder_list)\n",
    "# join new folder list into the main dataframe\n",
    "projects_df = pd.concat([projects_df, new_folders], axis=0, join='outer')"
   ]
  },
  {
   "cell_type": "code",
   "execution_count": null,
   "id": "4d847049",
   "metadata": {
    "ExecuteTime": {
     "end_time": "2023-02-27T18:08:00.677642Z",
     "start_time": "2023-02-27T18:08:00.662332Z"
    }
   },
   "outputs": [],
   "source": [
    "projects_df.tail()"
   ]
  },
  {
   "cell_type": "code",
   "execution_count": null,
   "id": "81ac0073",
   "metadata": {
    "ExecuteTime": {
     "end_time": "2023-02-27T18:08:00.883805Z",
     "start_time": "2023-02-27T18:08:00.868166Z"
    }
   },
   "outputs": [],
   "source": [
    "projects_df.sample(5)"
   ]
  },
  {
   "cell_type": "code",
   "execution_count": null,
   "id": "d1688972",
   "metadata": {
    "ExecuteTime": {
     "end_time": "2023-02-27T18:08:01.215196Z",
     "start_time": "2023-02-27T18:08:01.199547Z"
    }
   },
   "outputs": [],
   "source": [
    "test_list = folder_list[0]['subfolders']"
   ]
  },
  {
   "cell_type": "code",
   "execution_count": null,
   "id": "115c3cde",
   "metadata": {
    "ExecuteTime": {
     "end_time": "2023-02-27T18:08:02.446852Z",
     "start_time": "2023-02-27T18:08:02.415672Z"
    }
   },
   "outputs": [],
   "source": [
    "test_list"
   ]
  },
  {
   "cell_type": "code",
   "execution_count": null,
   "id": "dbc7d020",
   "metadata": {
    "ExecuteTime": {
     "end_time": "2023-02-27T18:08:08.559790Z",
     "start_time": "2023-02-27T18:08:08.544855Z"
    }
   },
   "outputs": [],
   "source": [
    "folder_list[0]['year']"
   ]
  },
  {
   "cell_type": "code",
   "execution_count": null,
   "id": "87884cd2",
   "metadata": {
    "ExecuteTime": {
     "end_time": "2023-02-27T18:08:08.844879Z",
     "start_time": "2023-02-27T18:08:08.831794Z"
    }
   },
   "outputs": [],
   "source": [
    "cwd = cwd + '\\\\' + folder_list[0]['year']"
   ]
  },
  {
   "cell_type": "code",
   "execution_count": null,
   "id": "b1483bf5",
   "metadata": {},
   "outputs": [],
   "source": []
  },
  {
   "cell_type": "code",
   "execution_count": null,
   "id": "5bd2245b",
   "metadata": {
    "ExecuteTime": {
     "end_time": "2023-02-27T18:36:33.826574Z",
     "start_time": "2023-02-27T18:36:33.794820Z"
    }
   },
   "outputs": [],
   "source": []
  },
  {
   "cell_type": "code",
   "execution_count": null,
   "id": "67942ddd",
   "metadata": {
    "ExecuteTime": {
     "end_time": "2023-02-27T18:34:41.413802Z",
     "start_time": "2023-02-27T18:34:41.387315Z"
    }
   },
   "outputs": [],
   "source": []
  },
  {
   "cell_type": "code",
   "execution_count": null,
   "id": "9df24575",
   "metadata": {
    "ExecuteTime": {
     "end_time": "2023-02-27T18:37:21.685373Z",
     "start_time": "2023-02-27T18:37:21.670517Z"
    }
   },
   "outputs": [],
   "source": []
  },
  {
   "cell_type": "code",
   "execution_count": null,
   "id": "9908c006",
   "metadata": {
    "ExecuteTime": {
     "end_time": "2023-02-27T18:12:33.324956Z",
     "start_time": "2023-02-27T18:12:33.295162Z"
    }
   },
   "outputs": [],
   "source": []
  },
  {
   "cell_type": "code",
   "execution_count": null,
   "id": "ad1cd22b",
   "metadata": {
    "ExecuteTime": {
     "end_time": "2023-02-27T18:02:26.073289Z",
     "start_time": "2023-02-27T18:02:26.061213Z"
    }
   },
   "outputs": [],
   "source": [
    "os.listdir(root_dir + '/2022')"
   ]
  },
  {
   "cell_type": "code",
   "execution_count": null,
   "id": "13891bcf",
   "metadata": {
    "ExecuteTime": {
     "end_time": "2023-02-27T18:02:26.659446Z",
     "start_time": "2023-02-27T18:02:26.580896Z"
    }
   },
   "outputs": [],
   "source": [
    "cwd = root_dir\n",
    "# newfolder_list = get_folders(rootfolder_list, cwd)\n",
    "folder_list = get_subfolders(rootfolder_list, cwd)\n",
    "new_folders = add_folders(folder_list)\n",
    "# join new folder list into the main dataframe\n",
    "projects_df = pd.concat([projects_df, new_folders], axis=0, join='outer')"
   ]
  },
  {
   "cell_type": "code",
   "execution_count": null,
   "id": "77ea8757",
   "metadata": {
    "ExecuteTime": {
     "end_time": "2023-02-27T18:02:30.988306Z",
     "start_time": "2023-02-27T18:02:30.956554Z"
    }
   },
   "outputs": [],
   "source": [
    "new_folders = add_folders(newfolder_list, cwd)"
   ]
  },
  {
   "cell_type": "code",
   "execution_count": null,
   "id": "d52bca50",
   "metadata": {
    "ExecuteTime": {
     "end_time": "2023-02-23T20:59:20.690097Z",
     "start_time": "2023-02-23T20:59:20.674115Z"
    }
   },
   "outputs": [],
   "source": [
    "projects_df = pd.concat([projects_df, new_folders], axis=0, join='outer')"
   ]
  },
  {
   "cell_type": "code",
   "execution_count": null,
   "id": "cc715ba1",
   "metadata": {
    "ExecuteTime": {
     "end_time": "2023-02-23T21:00:45.819783Z",
     "start_time": "2023-02-23T21:00:45.797979Z"
    }
   },
   "outputs": [],
   "source": [
    "projects_df['path'].sample(15)"
   ]
  },
  {
   "cell_type": "code",
   "execution_count": null,
   "id": "99dfab38",
   "metadata": {},
   "outputs": [],
   "source": []
  },
  {
   "cell_type": "code",
   "execution_count": null,
   "id": "5230708f",
   "metadata": {
    "ExecuteTime": {
     "end_time": "2023-02-23T20:38:47.923710Z",
     "start_time": "2023-02-23T20:38:47.874345Z"
    }
   },
   "outputs": [],
   "source": [
    "for i in range(len(rootfolder_list)):\n",
    "    subdir = rootfolder_list[i]\n",
    "    cwd = (f'{root_dir}/{subdir}')\n",
    "    new_folders = get_folders(rootfolder_list, cwd)\n",
    "    \n",
    "    \n",
    "    print(new_folders)"
   ]
  },
  {
   "cell_type": "code",
   "execution_count": null,
   "id": "4b146fcc",
   "metadata": {
    "ExecuteTime": {
     "end_time": "2023-02-23T20:30:33.053023Z",
     "start_time": "2023-02-23T20:30:33.038015Z"
    }
   },
   "outputs": [],
   "source": [
    "subdir = rootfolder_list[0]\n",
    "cwd = (f'{root_dir}/{subdir}')"
   ]
  },
  {
   "cell_type": "code",
   "execution_count": null,
   "id": "75a304c9",
   "metadata": {
    "ExecuteTime": {
     "end_time": "2023-02-23T20:30:46.954890Z",
     "start_time": "2023-02-23T20:30:46.924468Z"
    }
   },
   "outputs": [],
   "source": [
    "get_folders(rootfolder_list,cwd)"
   ]
  },
  {
   "cell_type": "code",
   "execution_count": null,
   "id": "b242f583",
   "metadata": {
    "ExecuteTime": {
     "end_time": "2023-02-23T20:21:28.597262Z",
     "start_time": "2023-02-23T20:21:28.565643Z"
    }
   },
   "outputs": [],
   "source": [
    "# makes a list of subfolders, currently 1 level deep under root folders (years)\n",
    "newfolder_list = get_folders(rootfolder_list, cwd)"
   ]
  },
  {
   "cell_type": "code",
   "execution_count": null,
   "id": "273fe243",
   "metadata": {
    "ExecuteTime": {
     "end_time": "2023-02-23T20:22:45.782967Z",
     "start_time": "2023-02-23T20:22:45.770788Z"
    }
   },
   "outputs": [],
   "source": [
    "rootfolder_list[0]"
   ]
  },
  {
   "cell_type": "code",
   "execution_count": null,
   "id": "291194a1",
   "metadata": {
    "ExecuteTime": {
     "end_time": "2023-02-23T20:26:12.057564Z",
     "start_time": "2023-02-23T20:26:12.026663Z"
    }
   },
   "outputs": [],
   "source": []
  },
  {
   "cell_type": "code",
   "execution_count": null,
   "id": "80f5f1bf",
   "metadata": {
    "ExecuteTime": {
     "end_time": "2023-02-23T20:18:54.784883Z",
     "start_time": "2023-02-23T20:18:54.752121Z"
    }
   },
   "outputs": [],
   "source": [
    "new_folders"
   ]
  },
  {
   "cell_type": "code",
   "execution_count": null,
   "id": "a34c90ea",
   "metadata": {
    "ExecuteTime": {
     "end_time": "2023-02-23T19:57:47.156630Z",
     "start_time": "2023-02-23T19:57:47.156630Z"
    }
   },
   "outputs": [],
   "source": [
    "projects_df"
   ]
  },
  {
   "cell_type": "code",
   "execution_count": null,
   "id": "62357574",
   "metadata": {},
   "outputs": [],
   "source": []
  },
  {
   "cell_type": "code",
   "execution_count": null,
   "id": "b691d5a0",
   "metadata": {},
   "outputs": [],
   "source": []
  },
  {
   "cell_type": "code",
   "execution_count": null,
   "id": "1f2767cd",
   "metadata": {},
   "outputs": [],
   "source": []
  }
 ],
 "metadata": {
  "hide_input": false,
  "kernelspec": {
   "display_name": "Python 3 (ipykernel)",
   "language": "python",
   "name": "python3"
  },
  "language_info": {
   "codemirror_mode": {
    "name": "ipython",
    "version": 3
   },
   "file_extension": ".py",
   "mimetype": "text/x-python",
   "name": "python",
   "nbconvert_exporter": "python",
   "pygments_lexer": "ipython3",
   "version": "3.10.7"
  },
  "toc": {
   "base_numbering": 1,
   "nav_menu": {},
   "number_sections": true,
   "sideBar": true,
   "skip_h1_title": false,
   "title_cell": "Table of Contents",
   "title_sidebar": "Contents",
   "toc_cell": false,
   "toc_position": {},
   "toc_section_display": true,
   "toc_window_display": false
  }
 },
 "nbformat": 4,
 "nbformat_minor": 5
}
